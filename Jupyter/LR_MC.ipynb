{
 "cells": [
  {
   "cell_type": "code",
   "execution_count": 1,
   "metadata": {},
   "outputs": [],
   "source": [
    "import numpy as np\n",
    "import random as random"
   ]
  },
  {
   "cell_type": "code",
   "execution_count": 2,
   "metadata": {},
   "outputs": [],
   "source": [
    "from copy import deepcopy"
   ]
  },
  {
   "cell_type": "code",
   "execution_count": 3,
   "metadata": {},
   "outputs": [],
   "source": [
    "from matplotlib import pyplot as plt"
   ]
  },
  {
   "cell_type": "code",
   "execution_count": 4,
   "metadata": {},
   "outputs": [],
   "source": [
    "from scipy import stats"
   ]
  },
  {
   "cell_type": "code",
   "execution_count": 5,
   "metadata": {},
   "outputs": [],
   "source": [
    "t = 100"
   ]
  },
  {
   "cell_type": "code",
   "execution_count": 6,
   "metadata": {},
   "outputs": [],
   "source": [
    "V = np.zeros((t))\n",
    "\n",
    "for i in range(t):\n",
    "    V[i] = np.random.normal()"
   ]
  },
  {
   "cell_type": "code",
   "execution_count": 7,
   "metadata": {},
   "outputs": [],
   "source": [
    "def markov_step(pi):#шаг цепи Маркова\n",
    "    \n",
    "    rand = np.random.random()\n",
    "    #rand = 0.85\n",
    "    next_state = 0\n",
    "    \n",
    "    zero = 0\n",
    "        \n",
    "    for j in range(len(pi)):\n",
    "        \n",
    "        if(j == 0):\n",
    "            if(rand < pi[j]):\n",
    "                next_state = j\n",
    "                break;\n",
    "        \n",
    "        if(j != 0)and(j != len(pi) - 1):\n",
    "            if rand >= zero and rand < zero + pi[j]:\n",
    "                next_state = j\n",
    "                break;\n",
    "            #else:\n",
    "            #    next_state = next_state\n",
    "        if (j == len(pi) - 1):\n",
    "            if rand >= zero:\n",
    "                next_state = j\n",
    "                break;\n",
    "                \n",
    "        zero += pi[j]\n",
    "        \n",
    "    next_state_ohe = np.zeros((len(pi)))\n",
    "    next_state_ohe[next_state] = 1\n",
    "                \n",
    "    return next_state_ohe,next_state, rand"
   ]
  },
  {
   "cell_type": "code",
   "execution_count": 8,
   "metadata": {},
   "outputs": [],
   "source": [
    "pi_test = np.zeros((3))"
   ]
  },
  {
   "cell_type": "code",
   "execution_count": 9,
   "metadata": {},
   "outputs": [],
   "source": [
    "pi_test[0] = 0.1\n",
    "pi_test[1] = 0.4\n",
    "pi_test[2] = 0.5"
   ]
  },
  {
   "cell_type": "code",
   "execution_count": 10,
   "metadata": {},
   "outputs": [],
   "source": [
    "res = markov_step(pi_test)#от 0 до 0.1, от 0.1 до 0.6, от 0.6 до 0.85, от 0.85 до 1\n",
    "                          #     0            1              2              3"
   ]
  },
  {
   "cell_type": "code",
   "execution_count": 11,
   "metadata": {},
   "outputs": [
    {
     "data": {
      "text/plain": [
       "(array([0., 0., 1.]), 2, 0.6626590878250647)"
      ]
     },
     "execution_count": 11,
     "metadata": {},
     "output_type": "execute_result"
    }
   ],
   "source": [
    "res"
   ]
  },
  {
   "cell_type": "code",
   "execution_count": 12,
   "metadata": {},
   "outputs": [],
   "source": [
    "def markov_chain(pi0,P,t):\n",
    "\n",
    "    first_step = markov_step(pi0)[0]#первый шаг\n",
    "    pi_next = P[np.nonzero(first_step)[0][0]]\n",
    "    history = np.zeros((t,len(pi0)))\n",
    "    history[0] = deepcopy(first_step)\n",
    "    \n",
    "    for i in range(1,t):\n",
    "        step = markov_step(pi_next)[0]\n",
    "        history[i] = step\n",
    "        pi_next = P[np.nonzero(step)[0][0]]\n",
    "    \n",
    "    return history"
   ]
  },
  {
   "cell_type": "code",
   "execution_count": 13,
   "metadata": {},
   "outputs": [],
   "source": [
    "P_test = np.random.random((3,3))"
   ]
  },
  {
   "cell_type": "code",
   "execution_count": 14,
   "metadata": {},
   "outputs": [
    {
     "data": {
      "text/plain": [
       "array([[0.2, 0.4, 0.4],\n",
       "       [0.1, 0.7, 0.2],\n",
       "       [0.3, 0.6, 0.1]])"
      ]
     },
     "execution_count": 14,
     "metadata": {},
     "output_type": "execute_result"
    }
   ],
   "source": [
    "P_test[0][0] = 0.2\n",
    "P_test[0][1] = 0.4\n",
    "P_test[0][2] = 0.4\n",
    "P_test[1][0] = 0.1\n",
    "P_test[1][1] = 0.7\n",
    "P_test[1][2] = 0.2\n",
    "P_test[2][0] = 0.3\n",
    "P_test[2][1] = 0.6\n",
    "P_test[2][2] = 0.1\n",
    "\n",
    "P_test"
   ]
  },
  {
   "cell_type": "code",
   "execution_count": 15,
   "metadata": {},
   "outputs": [
    {
     "data": {
      "text/plain": [
       "(array([0., 1., 0.]), 1, 0.5712486740713393)"
      ]
     },
     "execution_count": 15,
     "metadata": {},
     "output_type": "execute_result"
    }
   ],
   "source": [
    "markov_step(P_test[0])"
   ]
  },
  {
   "cell_type": "code",
   "execution_count": 16,
   "metadata": {},
   "outputs": [
    {
     "data": {
      "text/plain": [
       "array([[0., 0., 1.],\n",
       "       [0., 1., 0.],\n",
       "       [0., 1., 0.],\n",
       "       [0., 1., 0.],\n",
       "       [0., 0., 1.],\n",
       "       [0., 0., 1.],\n",
       "       [0., 1., 0.],\n",
       "       [0., 1., 0.],\n",
       "       [1., 0., 0.],\n",
       "       [0., 1., 0.]])"
      ]
     },
     "execution_count": 16,
     "metadata": {},
     "output_type": "execute_result"
    }
   ],
   "source": [
    "markov_chain(pi_test,P_test,10)"
   ]
  },
  {
   "cell_type": "code",
   "execution_count": 17,
   "metadata": {},
   "outputs": [],
   "source": [
    "#закончил с тестами\n",
    "#теперь моделирую мою МЦ"
   ]
  },
  {
   "cell_type": "code",
   "execution_count": 18,
   "metadata": {},
   "outputs": [],
   "source": [
    "P = np.zeros((4,4))\n",
    "\n",
    "P[0][0] = 0\n",
    "P[0][1] = 1\n",
    "P[0][2] = 0\n",
    "P[0][3] = 0\n",
    "P[1][0] = np.sin(8*np.pi/5)**2\n",
    "P[1][1] = 0\n",
    "P[1][2] = np.cos(8*np.pi/5)**2\n",
    "P[1][3] = 0\n",
    "P[2][0] = 0\n",
    "P[2][1] = 0\n",
    "P[2][2] = 0\n",
    "P[2][3] = 1\n",
    "P[3][0] = np.cos(8*np.pi/10)**2\n",
    "P[3][1] = 0\n",
    "P[3][2] = np.sin(8*np.pi/10)**2\n",
    "P[3][3] = 0"
   ]
  },
  {
   "cell_type": "code",
   "execution_count": 19,
   "metadata": {},
   "outputs": [],
   "source": [
    "pi0 = np.zeros((4))\n",
    "\n",
    "pi0[0] = 1/2*(np.sin(8*np.pi/6)**2)\n",
    "pi0[1] = 1/2*(np.cos(8*np.pi/6)**2)\n",
    "pi0[2] = 1/2*(np.sin(8*np.pi/12)**2)\n",
    "pi0[3] = 1/2*(np.cos(8*np.pi/12)**2)"
   ]
  },
  {
   "cell_type": "code",
   "execution_count": 20,
   "metadata": {},
   "outputs": [
    {
     "data": {
      "text/plain": [
       "array([[1., 0., 0., 0.],\n",
       "       [0., 1., 0., 0.],\n",
       "       [1., 0., 0., 0.],\n",
       "       [0., 1., 0., 0.],\n",
       "       [1., 0., 0., 0.],\n",
       "       [0., 1., 0., 0.],\n",
       "       [1., 0., 0., 0.],\n",
       "       [0., 1., 0., 0.],\n",
       "       [1., 0., 0., 0.],\n",
       "       [0., 1., 0., 0.],\n",
       "       [1., 0., 0., 0.],\n",
       "       [0., 1., 0., 0.],\n",
       "       [1., 0., 0., 0.],\n",
       "       [0., 1., 0., 0.],\n",
       "       [1., 0., 0., 0.],\n",
       "       [0., 1., 0., 0.],\n",
       "       [1., 0., 0., 0.],\n",
       "       [0., 1., 0., 0.],\n",
       "       [0., 0., 1., 0.],\n",
       "       [0., 0., 0., 1.],\n",
       "       [0., 0., 1., 0.],\n",
       "       [0., 0., 0., 1.],\n",
       "       [1., 0., 0., 0.],\n",
       "       [0., 1., 0., 0.],\n",
       "       [1., 0., 0., 0.],\n",
       "       [0., 1., 0., 0.],\n",
       "       [0., 0., 1., 0.],\n",
       "       [0., 0., 0., 1.],\n",
       "       [0., 0., 1., 0.],\n",
       "       [0., 0., 0., 1.],\n",
       "       [0., 0., 1., 0.],\n",
       "       [0., 0., 0., 1.],\n",
       "       [1., 0., 0., 0.],\n",
       "       [0., 1., 0., 0.],\n",
       "       [1., 0., 0., 0.],\n",
       "       [0., 1., 0., 0.],\n",
       "       [0., 0., 1., 0.],\n",
       "       [0., 0., 0., 1.],\n",
       "       [1., 0., 0., 0.],\n",
       "       [0., 1., 0., 0.],\n",
       "       [1., 0., 0., 0.],\n",
       "       [0., 1., 0., 0.],\n",
       "       [1., 0., 0., 0.],\n",
       "       [0., 1., 0., 0.],\n",
       "       [1., 0., 0., 0.],\n",
       "       [0., 1., 0., 0.],\n",
       "       [0., 0., 1., 0.],\n",
       "       [0., 0., 0., 1.],\n",
       "       [1., 0., 0., 0.],\n",
       "       [0., 1., 0., 0.],\n",
       "       [1., 0., 0., 0.],\n",
       "       [0., 1., 0., 0.],\n",
       "       [1., 0., 0., 0.],\n",
       "       [0., 1., 0., 0.],\n",
       "       [1., 0., 0., 0.],\n",
       "       [0., 1., 0., 0.],\n",
       "       [0., 0., 1., 0.],\n",
       "       [0., 0., 0., 1.],\n",
       "       [1., 0., 0., 0.],\n",
       "       [0., 1., 0., 0.],\n",
       "       [1., 0., 0., 0.],\n",
       "       [0., 1., 0., 0.],\n",
       "       [1., 0., 0., 0.],\n",
       "       [0., 1., 0., 0.],\n",
       "       [1., 0., 0., 0.],\n",
       "       [0., 1., 0., 0.],\n",
       "       [1., 0., 0., 0.],\n",
       "       [0., 1., 0., 0.],\n",
       "       [1., 0., 0., 0.],\n",
       "       [0., 1., 0., 0.],\n",
       "       [1., 0., 0., 0.],\n",
       "       [0., 1., 0., 0.],\n",
       "       [1., 0., 0., 0.],\n",
       "       [0., 1., 0., 0.],\n",
       "       [1., 0., 0., 0.],\n",
       "       [0., 1., 0., 0.],\n",
       "       [1., 0., 0., 0.],\n",
       "       [0., 1., 0., 0.],\n",
       "       [1., 0., 0., 0.],\n",
       "       [0., 1., 0., 0.],\n",
       "       [1., 0., 0., 0.],\n",
       "       [0., 1., 0., 0.],\n",
       "       [1., 0., 0., 0.],\n",
       "       [0., 1., 0., 0.],\n",
       "       [1., 0., 0., 0.],\n",
       "       [0., 1., 0., 0.],\n",
       "       [0., 0., 1., 0.],\n",
       "       [0., 0., 0., 1.],\n",
       "       [1., 0., 0., 0.],\n",
       "       [0., 1., 0., 0.],\n",
       "       [1., 0., 0., 0.],\n",
       "       [0., 1., 0., 0.],\n",
       "       [0., 0., 1., 0.],\n",
       "       [0., 0., 0., 1.],\n",
       "       [0., 0., 1., 0.],\n",
       "       [0., 0., 0., 1.],\n",
       "       [1., 0., 0., 0.],\n",
       "       [0., 1., 0., 0.],\n",
       "       [0., 0., 1., 0.],\n",
       "       [0., 0., 0., 1.]])"
      ]
     },
     "execution_count": 20,
     "metadata": {},
     "output_type": "execute_result"
    }
   ],
   "source": [
    "markov_chain(pi0,P,t)"
   ]
  },
  {
   "cell_type": "code",
   "execution_count": 21,
   "metadata": {},
   "outputs": [],
   "source": [
    "#3.1\n",
    "\n",
    "markov_sim = markov_chain(pi0,P,t)#моделирование\n",
    "markov_triv = np.zeros((t,len(pi0)))#тривиальный прогноз\n",
    "\n",
    "for i in range(t):\n",
    "    if(i == 0):\n",
    "        markov_triv[i] = deepcopy(pi0)\n",
    "    if(i != 0):\n",
    "        markov_triv[i] = deepcopy(P.transpose().dot(markov_sim[i-1]))\n",
    "        #markov_triv[i] = P[np.argmax(P[np.nonzero(markov_sim[i-1])[0][0]])]#old\n",
    "\n",
    "markov_sim = markov_sim.reshape(t,4)"
   ]
  },
  {
   "cell_type": "code",
   "execution_count": 22,
   "metadata": {},
   "outputs": [
    {
     "data": {
      "text/plain": [
       "array([0.375, 0.125, 0.375, 0.125])"
      ]
     },
     "execution_count": 22,
     "metadata": {},
     "output_type": "execute_result"
    }
   ],
   "source": [
    "pi0"
   ]
  },
  {
   "cell_type": "code",
   "execution_count": 23,
   "metadata": {},
   "outputs": [
    {
     "data": {
      "text/plain": [
       "array([[0.       , 1.       , 0.       , 0.       ],\n",
       "       [0.9045085, 0.       , 0.0954915, 0.       ],\n",
       "       [0.       , 0.       , 0.       , 1.       ],\n",
       "       [0.6545085, 0.       , 0.3454915, 0.       ]])"
      ]
     },
     "execution_count": 23,
     "metadata": {},
     "output_type": "execute_result"
    }
   ],
   "source": [
    "P"
   ]
  },
  {
   "cell_type": "code",
   "execution_count": 24,
   "metadata": {},
   "outputs": [
    {
     "data": {
      "text/plain": [
       "array([[0.375    , 0.125    , 0.375    , 0.125    ],\n",
       "       [0.       , 0.       , 0.       , 1.       ],\n",
       "       [0.6545085, 0.       , 0.3454915, 0.       ],\n",
       "       [0.       , 0.       , 0.       , 1.       ],\n",
       "       [0.6545085, 0.       , 0.3454915, 0.       ],\n",
       "       [0.       , 0.       , 0.       , 1.       ],\n",
       "       [0.6545085, 0.       , 0.3454915, 0.       ],\n",
       "       [0.       , 1.       , 0.       , 0.       ],\n",
       "       [0.9045085, 0.       , 0.0954915, 0.       ],\n",
       "       [0.       , 0.       , 0.       , 1.       ],\n",
       "       [0.6545085, 0.       , 0.3454915, 0.       ],\n",
       "       [0.       , 0.       , 0.       , 1.       ],\n",
       "       [0.6545085, 0.       , 0.3454915, 0.       ],\n",
       "       [0.       , 1.       , 0.       , 0.       ],\n",
       "       [0.9045085, 0.       , 0.0954915, 0.       ],\n",
       "       [0.       , 1.       , 0.       , 0.       ],\n",
       "       [0.9045085, 0.       , 0.0954915, 0.       ],\n",
       "       [0.       , 1.       , 0.       , 0.       ],\n",
       "       [0.9045085, 0.       , 0.0954915, 0.       ],\n",
       "       [0.       , 1.       , 0.       , 0.       ],\n",
       "       [0.9045085, 0.       , 0.0954915, 0.       ],\n",
       "       [0.       , 1.       , 0.       , 0.       ],\n",
       "       [0.9045085, 0.       , 0.0954915, 0.       ],\n",
       "       [0.       , 1.       , 0.       , 0.       ],\n",
       "       [0.9045085, 0.       , 0.0954915, 0.       ],\n",
       "       [0.       , 1.       , 0.       , 0.       ],\n",
       "       [0.9045085, 0.       , 0.0954915, 0.       ],\n",
       "       [0.       , 1.       , 0.       , 0.       ],\n",
       "       [0.9045085, 0.       , 0.0954915, 0.       ],\n",
       "       [0.       , 1.       , 0.       , 0.       ],\n",
       "       [0.9045085, 0.       , 0.0954915, 0.       ],\n",
       "       [0.       , 1.       , 0.       , 0.       ],\n",
       "       [0.9045085, 0.       , 0.0954915, 0.       ],\n",
       "       [0.       , 1.       , 0.       , 0.       ],\n",
       "       [0.9045085, 0.       , 0.0954915, 0.       ],\n",
       "       [0.       , 1.       , 0.       , 0.       ],\n",
       "       [0.9045085, 0.       , 0.0954915, 0.       ],\n",
       "       [0.       , 1.       , 0.       , 0.       ],\n",
       "       [0.9045085, 0.       , 0.0954915, 0.       ],\n",
       "       [0.       , 1.       , 0.       , 0.       ],\n",
       "       [0.9045085, 0.       , 0.0954915, 0.       ],\n",
       "       [0.       , 1.       , 0.       , 0.       ],\n",
       "       [0.9045085, 0.       , 0.0954915, 0.       ],\n",
       "       [0.       , 1.       , 0.       , 0.       ],\n",
       "       [0.9045085, 0.       , 0.0954915, 0.       ],\n",
       "       [0.       , 1.       , 0.       , 0.       ],\n",
       "       [0.9045085, 0.       , 0.0954915, 0.       ],\n",
       "       [0.       , 1.       , 0.       , 0.       ],\n",
       "       [0.9045085, 0.       , 0.0954915, 0.       ],\n",
       "       [0.       , 0.       , 0.       , 1.       ],\n",
       "       [0.6545085, 0.       , 0.3454915, 0.       ],\n",
       "       [0.       , 1.       , 0.       , 0.       ],\n",
       "       [0.9045085, 0.       , 0.0954915, 0.       ],\n",
       "       [0.       , 0.       , 0.       , 1.       ],\n",
       "       [0.6545085, 0.       , 0.3454915, 0.       ],\n",
       "       [0.       , 1.       , 0.       , 0.       ],\n",
       "       [0.9045085, 0.       , 0.0954915, 0.       ],\n",
       "       [0.       , 1.       , 0.       , 0.       ],\n",
       "       [0.9045085, 0.       , 0.0954915, 0.       ],\n",
       "       [0.       , 1.       , 0.       , 0.       ],\n",
       "       [0.9045085, 0.       , 0.0954915, 0.       ],\n",
       "       [0.       , 1.       , 0.       , 0.       ],\n",
       "       [0.9045085, 0.       , 0.0954915, 0.       ],\n",
       "       [0.       , 1.       , 0.       , 0.       ],\n",
       "       [0.9045085, 0.       , 0.0954915, 0.       ],\n",
       "       [0.       , 1.       , 0.       , 0.       ],\n",
       "       [0.9045085, 0.       , 0.0954915, 0.       ],\n",
       "       [0.       , 1.       , 0.       , 0.       ],\n",
       "       [0.9045085, 0.       , 0.0954915, 0.       ],\n",
       "       [0.       , 1.       , 0.       , 0.       ],\n",
       "       [0.9045085, 0.       , 0.0954915, 0.       ],\n",
       "       [0.       , 1.       , 0.       , 0.       ],\n",
       "       [0.9045085, 0.       , 0.0954915, 0.       ],\n",
       "       [0.       , 1.       , 0.       , 0.       ],\n",
       "       [0.9045085, 0.       , 0.0954915, 0.       ],\n",
       "       [0.       , 1.       , 0.       , 0.       ],\n",
       "       [0.9045085, 0.       , 0.0954915, 0.       ],\n",
       "       [0.       , 1.       , 0.       , 0.       ],\n",
       "       [0.9045085, 0.       , 0.0954915, 0.       ],\n",
       "       [0.       , 1.       , 0.       , 0.       ],\n",
       "       [0.9045085, 0.       , 0.0954915, 0.       ],\n",
       "       [0.       , 1.       , 0.       , 0.       ],\n",
       "       [0.9045085, 0.       , 0.0954915, 0.       ],\n",
       "       [0.       , 0.       , 0.       , 1.       ],\n",
       "       [0.6545085, 0.       , 0.3454915, 0.       ],\n",
       "       [0.       , 0.       , 0.       , 1.       ],\n",
       "       [0.6545085, 0.       , 0.3454915, 0.       ],\n",
       "       [0.       , 1.       , 0.       , 0.       ],\n",
       "       [0.9045085, 0.       , 0.0954915, 0.       ],\n",
       "       [0.       , 1.       , 0.       , 0.       ],\n",
       "       [0.9045085, 0.       , 0.0954915, 0.       ],\n",
       "       [0.       , 1.       , 0.       , 0.       ],\n",
       "       [0.9045085, 0.       , 0.0954915, 0.       ],\n",
       "       [0.       , 1.       , 0.       , 0.       ],\n",
       "       [0.9045085, 0.       , 0.0954915, 0.       ],\n",
       "       [0.       , 1.       , 0.       , 0.       ],\n",
       "       [0.9045085, 0.       , 0.0954915, 0.       ],\n",
       "       [0.       , 1.       , 0.       , 0.       ],\n",
       "       [0.9045085, 0.       , 0.0954915, 0.       ],\n",
       "       [0.       , 1.       , 0.       , 0.       ]])"
      ]
     },
     "execution_count": 24,
     "metadata": {},
     "output_type": "execute_result"
    }
   ],
   "source": [
    "markov_triv"
   ]
  },
  {
   "cell_type": "code",
   "execution_count": 25,
   "metadata": {},
   "outputs": [
    {
     "data": {
      "text/plain": [
       "array([[0., 0., 1., 0.],\n",
       "       [0., 0., 0., 1.],\n",
       "       [0., 0., 1., 0.],\n",
       "       [0., 0., 0., 1.],\n",
       "       [0., 0., 1., 0.],\n",
       "       [0., 0., 0., 1.],\n",
       "       [1., 0., 0., 0.],\n",
       "       [0., 1., 0., 0.],\n",
       "       [0., 0., 1., 0.],\n",
       "       [0., 0., 0., 1.],\n",
       "       [0., 0., 1., 0.],\n",
       "       [0., 0., 0., 1.],\n",
       "       [1., 0., 0., 0.],\n",
       "       [0., 1., 0., 0.],\n",
       "       [1., 0., 0., 0.],\n",
       "       [0., 1., 0., 0.],\n",
       "       [1., 0., 0., 0.],\n",
       "       [0., 1., 0., 0.],\n",
       "       [1., 0., 0., 0.],\n",
       "       [0., 1., 0., 0.],\n",
       "       [1., 0., 0., 0.],\n",
       "       [0., 1., 0., 0.],\n",
       "       [1., 0., 0., 0.],\n",
       "       [0., 1., 0., 0.],\n",
       "       [1., 0., 0., 0.],\n",
       "       [0., 1., 0., 0.],\n",
       "       [1., 0., 0., 0.],\n",
       "       [0., 1., 0., 0.],\n",
       "       [1., 0., 0., 0.],\n",
       "       [0., 1., 0., 0.],\n",
       "       [1., 0., 0., 0.],\n",
       "       [0., 1., 0., 0.],\n",
       "       [1., 0., 0., 0.],\n",
       "       [0., 1., 0., 0.],\n",
       "       [1., 0., 0., 0.],\n",
       "       [0., 1., 0., 0.],\n",
       "       [1., 0., 0., 0.],\n",
       "       [0., 1., 0., 0.],\n",
       "       [1., 0., 0., 0.],\n",
       "       [0., 1., 0., 0.],\n",
       "       [1., 0., 0., 0.],\n",
       "       [0., 1., 0., 0.],\n",
       "       [1., 0., 0., 0.],\n",
       "       [0., 1., 0., 0.],\n",
       "       [1., 0., 0., 0.],\n",
       "       [0., 1., 0., 0.],\n",
       "       [1., 0., 0., 0.],\n",
       "       [0., 1., 0., 0.],\n",
       "       [0., 0., 1., 0.],\n",
       "       [0., 0., 0., 1.],\n",
       "       [1., 0., 0., 0.],\n",
       "       [0., 1., 0., 0.],\n",
       "       [0., 0., 1., 0.],\n",
       "       [0., 0., 0., 1.],\n",
       "       [1., 0., 0., 0.],\n",
       "       [0., 1., 0., 0.],\n",
       "       [1., 0., 0., 0.],\n",
       "       [0., 1., 0., 0.],\n",
       "       [1., 0., 0., 0.],\n",
       "       [0., 1., 0., 0.],\n",
       "       [1., 0., 0., 0.],\n",
       "       [0., 1., 0., 0.],\n",
       "       [1., 0., 0., 0.],\n",
       "       [0., 1., 0., 0.],\n",
       "       [1., 0., 0., 0.],\n",
       "       [0., 1., 0., 0.],\n",
       "       [1., 0., 0., 0.],\n",
       "       [0., 1., 0., 0.],\n",
       "       [1., 0., 0., 0.],\n",
       "       [0., 1., 0., 0.],\n",
       "       [1., 0., 0., 0.],\n",
       "       [0., 1., 0., 0.],\n",
       "       [1., 0., 0., 0.],\n",
       "       [0., 1., 0., 0.],\n",
       "       [1., 0., 0., 0.],\n",
       "       [0., 1., 0., 0.],\n",
       "       [1., 0., 0., 0.],\n",
       "       [0., 1., 0., 0.],\n",
       "       [1., 0., 0., 0.],\n",
       "       [0., 1., 0., 0.],\n",
       "       [1., 0., 0., 0.],\n",
       "       [0., 1., 0., 0.],\n",
       "       [0., 0., 1., 0.],\n",
       "       [0., 0., 0., 1.],\n",
       "       [0., 0., 1., 0.],\n",
       "       [0., 0., 0., 1.],\n",
       "       [1., 0., 0., 0.],\n",
       "       [0., 1., 0., 0.],\n",
       "       [1., 0., 0., 0.],\n",
       "       [0., 1., 0., 0.],\n",
       "       [1., 0., 0., 0.],\n",
       "       [0., 1., 0., 0.],\n",
       "       [1., 0., 0., 0.],\n",
       "       [0., 1., 0., 0.],\n",
       "       [1., 0., 0., 0.],\n",
       "       [0., 1., 0., 0.],\n",
       "       [1., 0., 0., 0.],\n",
       "       [0., 1., 0., 0.],\n",
       "       [1., 0., 0., 0.],\n",
       "       [0., 1., 0., 0.]])"
      ]
     },
     "execution_count": 25,
     "metadata": {},
     "output_type": "execute_result"
    }
   ],
   "source": [
    "markov_sim"
   ]
  },
  {
   "cell_type": "code",
   "execution_count": 33,
   "metadata": {},
   "outputs": [],
   "source": [
    "delta_1 = markov_triv - markov_sim #ошибки для всех t"
   ]
  },
  {
   "cell_type": "code",
   "execution_count": 34,
   "metadata": {},
   "outputs": [
    {
     "data": {
      "text/plain": [
       "array([ 0.375,  0.125, -0.625,  0.125])"
      ]
     },
     "execution_count": 34,
     "metadata": {},
     "output_type": "execute_result"
    }
   ],
   "source": [
    "delta_1[0]#ошибка для начального состояния"
   ]
  },
  {
   "cell_type": "code",
   "execution_count": 35,
   "metadata": {},
   "outputs": [
    {
     "data": {
      "text/plain": [
       "array([[0.1875, 0.1875],\n",
       "       [0.1875, 0.1875]])"
      ]
     },
     "execution_count": 35,
     "metadata": {},
     "output_type": "execute_result"
    }
   ],
   "source": [
    "np.cov(delta_1[0],delta_1[0])#ковариация"
   ]
  },
  {
   "cell_type": "code",
   "execution_count": 36,
   "metadata": {},
   "outputs": [
    {
     "data": {
      "text/plain": [
       "array([ 0.375,  0.125, -0.625,  0.125])"
      ]
     },
     "execution_count": 36,
     "metadata": {},
     "output_type": "execute_result"
    }
   ],
   "source": [
    "delta_1[0]"
   ]
  },
  {
   "cell_type": "code",
   "execution_count": 37,
   "metadata": {},
   "outputs": [
    {
     "data": {
      "text/plain": [
       "(200, 200)"
      ]
     },
     "execution_count": 37,
     "metadata": {},
     "output_type": "execute_result"
    }
   ],
   "source": [
    "np.cov(delta_1,delta_1).shape"
   ]
  },
  {
   "cell_type": "code",
   "execution_count": 38,
   "metadata": {},
   "outputs": [
    {
     "data": {
      "text/plain": [
       "array([[0.       , 1.       , 0.       , 0.       ],\n",
       "       [0.9045085, 0.       , 0.0954915, 0.       ],\n",
       "       [0.       , 0.       , 0.       , 1.       ],\n",
       "       [0.6545085, 0.       , 0.3454915, 0.       ]])"
      ]
     },
     "execution_count": 38,
     "metadata": {},
     "output_type": "execute_result"
    }
   ],
   "source": [
    "P"
   ]
  },
  {
   "cell_type": "code",
   "execution_count": 39,
   "metadata": {},
   "outputs": [
    {
     "data": {
      "text/plain": [
       "[<matplotlib.lines.Line2D at 0x249e073aac8>]"
      ]
     },
     "execution_count": 39,
     "metadata": {},
     "output_type": "execute_result"
    },
    {
     "data": {
      "image/png": "[encoded data removed]",
      "text/plain": [
       "<Figure size 432x288 with 1 Axes>"
      ]
     },
     "metadata": {
      "needs_background": "light"
     },
     "output_type": "display_data"
    }
   ],
   "source": [
    "x = np.linspace(0,t,t)\n",
    "#y = np.nonzero(markov_sim)[1]\n",
    "y = markov_sim.transpose()[0]\n",
    "\n",
    "plt.plot(x,y)\n",
    "\n",
    "y = markov_triv.transpose()[0]\n",
    "plt.plot(x,y)"
   ]
  },
  {
   "cell_type": "code",
   "execution_count": 40,
   "metadata": {},
   "outputs": [
    {
     "data": {
      "text/plain": [
       "100"
      ]
     },
     "execution_count": 40,
     "metadata": {},
     "output_type": "execute_result"
    }
   ],
   "source": [
    "t"
   ]
  },
  {
   "cell_type": "code",
   "execution_count": 41,
   "metadata": {},
   "outputs": [
    {
     "data": {
      "text/plain": [
       "100"
      ]
     },
     "execution_count": 41,
     "metadata": {},
     "output_type": "execute_result"
    }
   ],
   "source": [
    "len(markov_sim)"
   ]
  },
  {
   "cell_type": "code",
   "execution_count": 42,
   "metadata": {},
   "outputs": [
    {
     "data": {
      "text/plain": [
       "100"
      ]
     },
     "execution_count": 42,
     "metadata": {},
     "output_type": "execute_result"
    }
   ],
   "source": [
    "len(np.nonzero(markov_sim)[1])"
   ]
  },
  {
   "cell_type": "code",
   "execution_count": 43,
   "metadata": {},
   "outputs": [
    {
     "data": {
      "text/plain": [
       "array([[0., 0., 1., 0.],\n",
       "       [0., 0., 0., 1.],\n",
       "       [0., 0., 1., 0.],\n",
       "       [0., 0., 0., 1.],\n",
       "       [0., 0., 1., 0.],\n",
       "       [0., 0., 0., 1.],\n",
       "       [1., 0., 0., 0.],\n",
       "       [0., 1., 0., 0.],\n",
       "       [0., 0., 1., 0.],\n",
       "       [0., 0., 0., 1.],\n",
       "       [0., 0., 1., 0.],\n",
       "       [0., 0., 0., 1.],\n",
       "       [1., 0., 0., 0.],\n",
       "       [0., 1., 0., 0.],\n",
       "       [1., 0., 0., 0.],\n",
       "       [0., 1., 0., 0.],\n",
       "       [1., 0., 0., 0.],\n",
       "       [0., 1., 0., 0.],\n",
       "       [1., 0., 0., 0.],\n",
       "       [0., 1., 0., 0.],\n",
       "       [1., 0., 0., 0.],\n",
       "       [0., 1., 0., 0.],\n",
       "       [1., 0., 0., 0.],\n",
       "       [0., 1., 0., 0.],\n",
       "       [1., 0., 0., 0.],\n",
       "       [0., 1., 0., 0.],\n",
       "       [1., 0., 0., 0.],\n",
       "       [0., 1., 0., 0.],\n",
       "       [1., 0., 0., 0.],\n",
       "       [0., 1., 0., 0.],\n",
       "       [1., 0., 0., 0.],\n",
       "       [0., 1., 0., 0.],\n",
       "       [1., 0., 0., 0.],\n",
       "       [0., 1., 0., 0.],\n",
       "       [1., 0., 0., 0.],\n",
       "       [0., 1., 0., 0.],\n",
       "       [1., 0., 0., 0.],\n",
       "       [0., 1., 0., 0.],\n",
       "       [1., 0., 0., 0.],\n",
       "       [0., 1., 0., 0.],\n",
       "       [1., 0., 0., 0.],\n",
       "       [0., 1., 0., 0.],\n",
       "       [1., 0., 0., 0.],\n",
       "       [0., 1., 0., 0.],\n",
       "       [1., 0., 0., 0.],\n",
       "       [0., 1., 0., 0.],\n",
       "       [1., 0., 0., 0.],\n",
       "       [0., 1., 0., 0.],\n",
       "       [0., 0., 1., 0.],\n",
       "       [0., 0., 0., 1.],\n",
       "       [1., 0., 0., 0.],\n",
       "       [0., 1., 0., 0.],\n",
       "       [0., 0., 1., 0.],\n",
       "       [0., 0., 0., 1.],\n",
       "       [1., 0., 0., 0.],\n",
       "       [0., 1., 0., 0.],\n",
       "       [1., 0., 0., 0.],\n",
       "       [0., 1., 0., 0.],\n",
       "       [1., 0., 0., 0.],\n",
       "       [0., 1., 0., 0.],\n",
       "       [1., 0., 0., 0.],\n",
       "       [0., 1., 0., 0.],\n",
       "       [1., 0., 0., 0.],\n",
       "       [0., 1., 0., 0.],\n",
       "       [1., 0., 0., 0.],\n",
       "       [0., 1., 0., 0.],\n",
       "       [1., 0., 0., 0.],\n",
       "       [0., 1., 0., 0.],\n",
       "       [1., 0., 0., 0.],\n",
       "       [0., 1., 0., 0.],\n",
       "       [1., 0., 0., 0.],\n",
       "       [0., 1., 0., 0.],\n",
       "       [1., 0., 0., 0.],\n",
       "       [0., 1., 0., 0.],\n",
       "       [1., 0., 0., 0.],\n",
       "       [0., 1., 0., 0.],\n",
       "       [1., 0., 0., 0.],\n",
       "       [0., 1., 0., 0.],\n",
       "       [1., 0., 0., 0.],\n",
       "       [0., 1., 0., 0.],\n",
       "       [1., 0., 0., 0.],\n",
       "       [0., 1., 0., 0.],\n",
       "       [0., 0., 1., 0.],\n",
       "       [0., 0., 0., 1.],\n",
       "       [0., 0., 1., 0.],\n",
       "       [0., 0., 0., 1.],\n",
       "       [1., 0., 0., 0.],\n",
       "       [0., 1., 0., 0.],\n",
       "       [1., 0., 0., 0.],\n",
       "       [0., 1., 0., 0.],\n",
       "       [1., 0., 0., 0.],\n",
       "       [0., 1., 0., 0.],\n",
       "       [1., 0., 0., 0.],\n",
       "       [0., 1., 0., 0.],\n",
       "       [1., 0., 0., 0.],\n",
       "       [0., 1., 0., 0.],\n",
       "       [1., 0., 0., 0.],\n",
       "       [0., 1., 0., 0.],\n",
       "       [1., 0., 0., 0.],\n",
       "       [0., 1., 0., 0.]])"
      ]
     },
     "execution_count": 43,
     "metadata": {},
     "output_type": "execute_result"
    }
   ],
   "source": [
    "markov_sim.reshape((100,4))"
   ]
  },
  {
   "cell_type": "markdown",
   "metadata": {},
   "source": [
    "# Альтернативный 3.1"
   ]
  },
  {
   "cell_type": "code",
   "execution_count": 115,
   "metadata": {},
   "outputs": [],
   "source": [
    "a = np.zeros((4,4))\n",
    "b = np.zeros((4,4))\n",
    "c = np.zeros((4,4))\n",
    "d = np.zeros((4,4))\n",
    "\n",
    "a[0][0] = -1 + np.sqrt(5)/3\n",
    "a[0][1] = - 1/2 + np.sqrt(5)/6\n",
    "a[0][2] = 1 + np.sqrt(5)/3\n",
    "a[0][3] = 1/2 + np.sqrt(5)/6\n",
    "a[1][0] = -2 + 2*np.sqrt(5)/3\n",
    "a[1][1] = -1 + np.sqrt(5)/3\n",
    "a[1][2] = 2 + 2*np.sqrt(5)/3\n",
    "a[1][3] = 1 + np.sqrt(5)/3\n",
    "a[2][0] = 1 - np.sqrt(5)/3\n",
    "a[2][1] = 1/2 - np.sqrt(5)/6\n",
    "a[2][2] = -1 - np.sqrt(5)/3\n",
    "a[2][3] = -np.sqrt(5)/6 - 1/2\n",
    "a[3][0] = 2 - 2*np.sqrt(5)/3\n",
    "a[3][1] = 1 - np.sqrt(5)/3\n",
    "a[3][2] = -2*np.sqrt(5)/3 - 2\n",
    "a[3][3] = -1 - np.sqrt(5)/3\n",
    "\n",
    "b[0][0] = 1/2 - np.sqrt(5)/6\n",
    "b[0][1] = -1/4 + np.sqrt(5)/12\n",
    "b[0][2] = -1/2 - np.sqrt(5)/6\n",
    "b[0][3] = 1/4 + np.sqrt(5)/12\n",
    "b[1][0] = -1 + np.sqrt(5)/3\n",
    "b[1][1] = 1/2 - np.sqrt(5)/6\n",
    "b[1][2] = 1 + np.sqrt(5)/3\n",
    "b[1][3] = -1/2 - np.sqrt(5)/6\n",
    "b[2][0] = -1/2 + np.sqrt(5)/6\n",
    "b[2][1] = 1/4 - np.sqrt(5)/12\n",
    "b[2][2] = np.sqrt(5)/6 + 1/2\n",
    "b[2][3] = -1/4 - np.sqrt(5)/12\n",
    "b[3][0] = 1 - np.sqrt(5)/3\n",
    "b[3][1] = -1/2 + np.sqrt(5)/6\n",
    "b[3][2] = -np.sqrt(5)/3 - 1\n",
    "b[3][3] = np.sqrt(5)/6 + 1/2\n",
    "\n",
    "c[0][0] = -1/4 - np.sqrt(5)/12\n",
    "c[0][1] = -1/4 - np.sqrt(5)/12\n",
    "c[0][2] = -1/4 - np.sqrt(5)/12\n",
    "c[0][3] = -np.sqrt(5)/12 - 1/4\n",
    "c[1][0] = -np.sqrt(5)/12 - 1/4\n",
    "c[1][1] = -1/4 - np.sqrt(5)/12\n",
    "c[1][2] = -np.sqrt(5)/12 - 1/4\n",
    "c[1][3] = -1/4 - np.sqrt(5)/12\n",
    "c[2][0] = -1/4 + np.sqrt(5)/12\n",
    "c[2][1] = -1/4 + np.sqrt(5)/12\n",
    "c[2][2] = -1/4 + np.sqrt(5)/12\n",
    "c[2][3] = -1/4 + np.sqrt(5)/12\n",
    "c[3][0] = -1/4 + np.sqrt(5)/12\n",
    "c[3][1] = -1/4 + np.sqrt(5)/12\n",
    "c[3][2] = -1/4 + np.sqrt(5)/12\n",
    "c[3][3] = -1/4 + np.sqrt(5)/12\n",
    "\n",
    "d[0][0] = np.sqrt(5)/12 + 1/4\n",
    "d[0][1] = -1/4 - np.sqrt(5)/12\n",
    "d[0][2] = np.sqrt(5)/12 + 1/4\n",
    "d[0][3] = -np.sqrt(5)/12 - 1/4\n",
    "d[1][0] = -np.sqrt(5)/12 - 1/4\n",
    "d[1][1] = np.sqrt(5)/12 + 1/4\n",
    "d[1][2] = -np.sqrt(5)/12 - 1/4\n",
    "d[1][3] = 1/4 + np.sqrt(5)/12\n",
    "d[2][0] = 1/4 - np.sqrt(5)/12\n",
    "d[2][1] = -1/4 + np.sqrt(5)/12\n",
    "d[2][2] = 1/4 - np.sqrt(5)/12\n",
    "d[2][3] = -1/4 + np.sqrt(5)/12\n",
    "d[3][0] = -1/4 + np.sqrt(5)/12\n",
    "d[3][1] = 1/4 - np.sqrt(5)/12\n",
    "d[3][2] = -1/4 + np.sqrt(5)/12\n",
    "d[3][3] = 1/4 - np.sqrt(5)/12"
   ]
  },
  {
   "cell_type": "code",
   "execution_count": 116,
   "metadata": {},
   "outputs": [],
   "source": [
    "def pi_n(n,pi0):\n",
    "    return (-(0.5**(n+2))*a + (0.5*(-0.5)**n)*b - c + ((-1)**n)*d).dot(pi0.reshape(4,1))"
   ]
  },
  {
   "cell_type": "code",
   "execution_count": 117,
   "metadata": {},
   "outputs": [],
   "source": [
    "markov_triv_2 = np.zeros((t,len(pi0)))\n",
    "\n",
    "for i in range(t):\n",
    "    if(i == 0):\n",
    "        markov_triv_2[i] = pi_n(i,pi0).reshape((4))\n",
    "    if(i != 0):\n",
    "        markov_triv_2[i] = pi_n(i,pi0).reshape((4))\n",
    "        #markov_triv[i][np.argmax(P[np.nonzero(markov_sim[i-1])[0][0]])] = deepcopy()#old"
   ]
  },
  {
   "cell_type": "code",
   "execution_count": 118,
   "metadata": {},
   "outputs": [
    {
     "data": {
      "text/plain": [
       "array([[0.375     , 0.125     , 0.375     , 0.125     ],\n",
       "       [0.19487712, 0.375     , 0.05512288, 0.375     ],\n",
       "       [0.58463137, 0.19487712, 0.16536863, 0.05512288],\n",
       "       [0.21234641, 0.58463137, 0.03765359, 0.16536863],\n",
       "       [0.63703922, 0.21234641, 0.11296078, 0.03765359],\n",
       "       [0.21671373, 0.63703922, 0.03328627, 0.11296078],\n",
       "       [0.65014118, 0.21671373, 0.09985882, 0.03328627],\n",
       "       [0.21780556, 0.65014118, 0.03219444, 0.09985882],\n",
       "       [0.65341667, 0.21780556, 0.09658333, 0.03219444],\n",
       "       [0.21807851, 0.65341667, 0.03192149, 0.09658333],\n",
       "       [0.65423554, 0.21807851, 0.09576446, 0.03192149],\n",
       "       [0.21814675, 0.65423554, 0.03185325, 0.09576446],\n",
       "       [0.65444026, 0.21814675, 0.09555974, 0.03185325],\n",
       "       [0.21816381, 0.65444026, 0.03183619, 0.09555974],\n",
       "       [0.65449144, 0.21816381, 0.09550856, 0.03183619],\n",
       "       [0.21816808, 0.65449144, 0.03183192, 0.09550856],\n",
       "       [0.65450423, 0.21816808, 0.09549577, 0.03183192],\n",
       "       [0.21816914, 0.65450423, 0.03183086, 0.09549577],\n",
       "       [0.65450743, 0.21816914, 0.09549257, 0.03183086],\n",
       "       [0.21816941, 0.65450743, 0.03183059, 0.09549257],\n",
       "       [0.65450823, 0.21816941, 0.09549177, 0.03183059],\n",
       "       [0.21816948, 0.65450823, 0.03183052, 0.09549177],\n",
       "       [0.65450843, 0.21816948, 0.09549157, 0.03183052],\n",
       "       [0.21816949, 0.65450843, 0.03183051, 0.09549157],\n",
       "       [0.65450848, 0.21816949, 0.09549152, 0.03183051],\n",
       "       [0.2181695 , 0.65450848, 0.0318305 , 0.09549152],\n",
       "       [0.65450849, 0.2181695 , 0.09549151, 0.0318305 ],\n",
       "       [0.2181695 , 0.65450849, 0.0318305 , 0.09549151],\n",
       "       [0.6545085 , 0.2181695 , 0.0954915 , 0.0318305 ],\n",
       "       [0.2181695 , 0.6545085 , 0.0318305 , 0.0954915 ],\n",
       "       [0.6545085 , 0.2181695 , 0.0954915 , 0.0318305 ],\n",
       "       [0.2181695 , 0.6545085 , 0.0318305 , 0.0954915 ],\n",
       "       [0.6545085 , 0.2181695 , 0.0954915 , 0.0318305 ],\n",
       "       [0.2181695 , 0.6545085 , 0.0318305 , 0.0954915 ],\n",
       "       [0.6545085 , 0.2181695 , 0.0954915 , 0.0318305 ],\n",
       "       [0.2181695 , 0.6545085 , 0.0318305 , 0.0954915 ],\n",
       "       [0.6545085 , 0.2181695 , 0.0954915 , 0.0318305 ],\n",
       "       [0.2181695 , 0.6545085 , 0.0318305 , 0.0954915 ],\n",
       "       [0.6545085 , 0.2181695 , 0.0954915 , 0.0318305 ],\n",
       "       [0.2181695 , 0.6545085 , 0.0318305 , 0.0954915 ],\n",
       "       [0.6545085 , 0.2181695 , 0.0954915 , 0.0318305 ],\n",
       "       [0.2181695 , 0.6545085 , 0.0318305 , 0.0954915 ],\n",
       "       [0.6545085 , 0.2181695 , 0.0954915 , 0.0318305 ],\n",
       "       [0.2181695 , 0.6545085 , 0.0318305 , 0.0954915 ],\n",
       "       [0.6545085 , 0.2181695 , 0.0954915 , 0.0318305 ],\n",
       "       [0.2181695 , 0.6545085 , 0.0318305 , 0.0954915 ],\n",
       "       [0.6545085 , 0.2181695 , 0.0954915 , 0.0318305 ],\n",
       "       [0.2181695 , 0.6545085 , 0.0318305 , 0.0954915 ],\n",
       "       [0.6545085 , 0.2181695 , 0.0954915 , 0.0318305 ],\n",
       "       [0.2181695 , 0.6545085 , 0.0318305 , 0.0954915 ],\n",
       "       [0.6545085 , 0.2181695 , 0.0954915 , 0.0318305 ],\n",
       "       [0.2181695 , 0.6545085 , 0.0318305 , 0.0954915 ],\n",
       "       [0.6545085 , 0.2181695 , 0.0954915 , 0.0318305 ],\n",
       "       [0.2181695 , 0.6545085 , 0.0318305 , 0.0954915 ],\n",
       "       [0.6545085 , 0.2181695 , 0.0954915 , 0.0318305 ],\n",
       "       [0.2181695 , 0.6545085 , 0.0318305 , 0.0954915 ],\n",
       "       [0.6545085 , 0.2181695 , 0.0954915 , 0.0318305 ],\n",
       "       [0.2181695 , 0.6545085 , 0.0318305 , 0.0954915 ],\n",
       "       [0.6545085 , 0.2181695 , 0.0954915 , 0.0318305 ],\n",
       "       [0.2181695 , 0.6545085 , 0.0318305 , 0.0954915 ],\n",
       "       [0.6545085 , 0.2181695 , 0.0954915 , 0.0318305 ],\n",
       "       [0.2181695 , 0.6545085 , 0.0318305 , 0.0954915 ],\n",
       "       [0.6545085 , 0.2181695 , 0.0954915 , 0.0318305 ],\n",
       "       [0.2181695 , 0.6545085 , 0.0318305 , 0.0954915 ],\n",
       "       [0.6545085 , 0.2181695 , 0.0954915 , 0.0318305 ],\n",
       "       [0.2181695 , 0.6545085 , 0.0318305 , 0.0954915 ],\n",
       "       [0.6545085 , 0.2181695 , 0.0954915 , 0.0318305 ],\n",
       "       [0.2181695 , 0.6545085 , 0.0318305 , 0.0954915 ],\n",
       "       [0.6545085 , 0.2181695 , 0.0954915 , 0.0318305 ],\n",
       "       [0.2181695 , 0.6545085 , 0.0318305 , 0.0954915 ],\n",
       "       [0.6545085 , 0.2181695 , 0.0954915 , 0.0318305 ],\n",
       "       [0.2181695 , 0.6545085 , 0.0318305 , 0.0954915 ],\n",
       "       [0.6545085 , 0.2181695 , 0.0954915 , 0.0318305 ],\n",
       "       [0.2181695 , 0.6545085 , 0.0318305 , 0.0954915 ],\n",
       "       [0.6545085 , 0.2181695 , 0.0954915 , 0.0318305 ],\n",
       "       [0.2181695 , 0.6545085 , 0.0318305 , 0.0954915 ],\n",
       "       [0.6545085 , 0.2181695 , 0.0954915 , 0.0318305 ],\n",
       "       [0.2181695 , 0.6545085 , 0.0318305 , 0.0954915 ],\n",
       "       [0.6545085 , 0.2181695 , 0.0954915 , 0.0318305 ],\n",
       "       [0.2181695 , 0.6545085 , 0.0318305 , 0.0954915 ],\n",
       "       [0.6545085 , 0.2181695 , 0.0954915 , 0.0318305 ],\n",
       "       [0.2181695 , 0.6545085 , 0.0318305 , 0.0954915 ],\n",
       "       [0.6545085 , 0.2181695 , 0.0954915 , 0.0318305 ],\n",
       "       [0.2181695 , 0.6545085 , 0.0318305 , 0.0954915 ],\n",
       "       [0.6545085 , 0.2181695 , 0.0954915 , 0.0318305 ],\n",
       "       [0.2181695 , 0.6545085 , 0.0318305 , 0.0954915 ],\n",
       "       [0.6545085 , 0.2181695 , 0.0954915 , 0.0318305 ],\n",
       "       [0.2181695 , 0.6545085 , 0.0318305 , 0.0954915 ],\n",
       "       [0.6545085 , 0.2181695 , 0.0954915 , 0.0318305 ],\n",
       "       [0.2181695 , 0.6545085 , 0.0318305 , 0.0954915 ],\n",
       "       [0.6545085 , 0.2181695 , 0.0954915 , 0.0318305 ],\n",
       "       [0.2181695 , 0.6545085 , 0.0318305 , 0.0954915 ],\n",
       "       [0.6545085 , 0.2181695 , 0.0954915 , 0.0318305 ],\n",
       "       [0.2181695 , 0.6545085 , 0.0318305 , 0.0954915 ],\n",
       "       [0.6545085 , 0.2181695 , 0.0954915 , 0.0318305 ],\n",
       "       [0.2181695 , 0.6545085 , 0.0318305 , 0.0954915 ],\n",
       "       [0.6545085 , 0.2181695 , 0.0954915 , 0.0318305 ],\n",
       "       [0.2181695 , 0.6545085 , 0.0318305 , 0.0954915 ],\n",
       "       [0.6545085 , 0.2181695 , 0.0954915 , 0.0318305 ],\n",
       "       [0.2181695 , 0.6545085 , 0.0318305 , 0.0954915 ]])"
      ]
     },
     "execution_count": 118,
     "metadata": {},
     "output_type": "execute_result"
    }
   ],
   "source": [
    "markov_triv_2"
   ]
  },
  {
   "cell_type": "code",
   "execution_count": 124,
   "metadata": {},
   "outputs": [
    {
     "data": {
      "text/plain": [
       "[<matplotlib.lines.Line2D at 0x2a45f6a3dc8>]"
      ]
     },
     "execution_count": 124,
     "metadata": {},
     "output_type": "execute_result"
    },
    {
     "data": {
      "image/png": "[encoded data removed]",
      "text/plain": [
       "<Figure size 432x288 with 1 Axes>"
      ]
     },
     "metadata": {
      "needs_background": "light"
     },
     "output_type": "display_data"
    }
   ],
   "source": [
    "x = np.linspace(0,t,100)\n",
    "y = markov_sim.transpose()[1]\n",
    "\n",
    "plt.plot(x,y)\n",
    "\n",
    "y = markov_triv_2.transpose()[1]\n",
    "plt.plot(x,y)"
   ]
  },
  {
   "cell_type": "code",
   "execution_count": null,
   "metadata": {},
   "outputs": [],
   "source": [
    "#в целом выглядит вполне хайпово"
   ]
  },
  {
   "cell_type": "code",
   "execution_count": 125,
   "metadata": {},
   "outputs": [],
   "source": [
    "delta_2 = markov_triv_2 - markov_sim #ошибки для всех t"
   ]
  },
  {
   "cell_type": "code",
   "execution_count": 128,
   "metadata": {},
   "outputs": [
    {
     "data": {
      "text/plain": [
       "array([[ 0.35416667, -0.1875    ,  0.37745904, ..., -0.0943305 ,\n",
       "         0.05188983, -0.0943305 ],\n",
       "       [-0.1875    ,  0.40400662, -0.10785725, ...,  0.03293774,\n",
       "        -0.08130967,  0.03293774],\n",
       "       [ 0.37745904, -0.10785725,  0.4333035 , ..., -0.13816596,\n",
       "         0.07200024, -0.13816596],\n",
       "       ...,\n",
       "       [-0.0943305 ,  0.03293774, -0.13816596, ...,  0.34992404,\n",
       "        -0.33911678,  0.34992404],\n",
       "       [ 0.05188983, -0.08130967,  0.07200024, ..., -0.33911678,\n",
       "         0.34992404, -0.33911678],\n",
       "       [-0.0943305 ,  0.03293774, -0.13816596, ...,  0.34992404,\n",
       "        -0.33911678,  0.34992404]])"
      ]
     },
     "execution_count": 128,
     "metadata": {},
     "output_type": "execute_result"
    }
   ],
   "source": [
    "cov = np.cov(delta_2,delta_2)\n",
    "cov"
   ]
  },
  {
   "cell_type": "code",
   "execution_count": null,
   "metadata": {},
   "outputs": [],
   "source": []
  },
  {
   "cell_type": "code",
   "execution_count": null,
   "metadata": {},
   "outputs": [],
   "source": []
  },
  {
   "cell_type": "markdown",
   "metadata": {},
   "source": [
    "# 3.3 Нелинейная оценка"
   ]
  },
  {
   "cell_type": "code",
   "execution_count": 183,
   "metadata": {},
   "outputs": [],
   "source": [
    "c = np.zeros((4,1))\n",
    "c[0] = 1\n",
    "c[1] = 2\n",
    "c[2] = 3\n",
    "c[3] = 3\n",
    "c = c.transpose()\n",
    "\n",
    "sigma = np.zeros((4,1))\n",
    "sigma[0] = 5\n",
    "sigma[1] = 6\n",
    "sigma[2] = 7\n",
    "sigma[3] = 8\n",
    "sigma = sigma.transpose()"
   ]
  },
  {
   "cell_type": "code",
   "execution_count": 184,
   "metadata": {},
   "outputs": [],
   "source": [
    "Y = np.zeros((t,len(pi0)))\n",
    "\n",
    "for i in range(t):\n",
    "    Y[i] = c.dot(markov_sim[i]) + sigma.dot(markov_sim[i])*V[i]"
   ]
  },
  {
   "cell_type": "code",
   "execution_count": 185,
   "metadata": {},
   "outputs": [
    {
     "data": {
      "text/plain": [
       "array([[ 13.67463516,  13.67463516,  13.67463516,  13.67463516],\n",
       "       [  6.6026332 ,   6.6026332 ,   6.6026332 ,   6.6026332 ],\n",
       "       [ -2.18490794,  -2.18490794,  -2.18490794,  -2.18490794],\n",
       "       [ 10.20538568,  10.20538568,  10.20538568,  10.20538568],\n",
       "       [  7.78638869,   7.78638869,   7.78638869,   7.78638869],\n",
       "       [ 14.47522251,  14.47522251,  14.47522251,  14.47522251],\n",
       "       [  3.68300399,   3.68300399,   3.68300399,   3.68300399],\n",
       "       [  0.6875903 ,   0.6875903 ,   0.6875903 ,   0.6875903 ],\n",
       "       [  8.43924687,   8.43924687,   8.43924687,   8.43924687],\n",
       "       [ -2.8834158 ,  -2.8834158 ,  -2.8834158 ,  -2.8834158 ],\n",
       "       [  0.29158271,   0.29158271,   0.29158271,   0.29158271],\n",
       "       [  2.2068694 ,   2.2068694 ,   2.2068694 ,   2.2068694 ],\n",
       "       [ -3.8410467 ,  -3.8410467 ,  -3.8410467 ,  -3.8410467 ],\n",
       "       [ -0.47959369,  -0.47959369,  -0.47959369,  -0.47959369],\n",
       "       [  1.27087761,   1.27087761,   1.27087761,   1.27087761],\n",
       "       [  4.6806562 ,   4.6806562 ,   4.6806562 ,   4.6806562 ],\n",
       "       [ -0.50433742,  -0.50433742,  -0.50433742,  -0.50433742],\n",
       "       [  8.90032264,   8.90032264,   8.90032264,   8.90032264],\n",
       "       [  8.45440144,   8.45440144,   8.45440144,   8.45440144],\n",
       "       [  1.65673974,   1.65673974,   1.65673974,   1.65673974],\n",
       "       [ -3.02034013,  -3.02034013,  -3.02034013,  -3.02034013],\n",
       "       [  2.49748277,   2.49748277,   2.49748277,   2.49748277],\n",
       "       [ -0.99870028,  -0.99870028,  -0.99870028,  -0.99870028],\n",
       "       [  1.50934783,   1.50934783,   1.50934783,   1.50934783],\n",
       "       [  7.66737096,   7.66737096,   7.66737096,   7.66737096],\n",
       "       [ -4.44095088,  -4.44095088,  -4.44095088,  -4.44095088],\n",
       "       [ -0.70085642,  -0.70085642,  -0.70085642,  -0.70085642],\n",
       "       [ -0.97988775,  -0.97988775,  -0.97988775,  -0.97988775],\n",
       "       [ -6.96303616,  -6.96303616,  -6.96303616,  -6.96303616],\n",
       "       [  1.325623  ,   1.325623  ,   1.325623  ,   1.325623  ],\n",
       "       [ -1.75449055,  -1.75449055,  -1.75449055,  -1.75449055],\n",
       "       [  6.34417954,   6.34417954,   6.34417954,   6.34417954],\n",
       "       [  1.89614947,   1.89614947,   1.89614947,   1.89614947],\n",
       "       [ -0.19052967,  -0.19052967,  -0.19052967,  -0.19052967],\n",
       "       [  6.80625539,   6.80625539,   6.80625539,   6.80625539],\n",
       "       [  3.01224438,   3.01224438,   3.01224438,   3.01224438],\n",
       "       [ -0.94705797,  -0.94705797,  -0.94705797,  -0.94705797],\n",
       "       [ -5.92631466,  -5.92631466,  -5.92631466,  -5.92631466],\n",
       "       [  6.41216964,   6.41216964,   6.41216964,   6.41216964],\n",
       "       [-11.03540748, -11.03540748, -11.03540748, -11.03540748],\n",
       "       [  3.0592331 ,   3.0592331 ,   3.0592331 ,   3.0592331 ],\n",
       "       [  2.99608437,   2.99608437,   2.99608437,   2.99608437],\n",
       "       [ -2.89892245,  -2.89892245,  -2.89892245,  -2.89892245],\n",
       "       [  3.7170444 ,   3.7170444 ,   3.7170444 ,   3.7170444 ],\n",
       "       [ -0.88626138,  -0.88626138,  -0.88626138,  -0.88626138],\n",
       "       [  1.48841981,   1.48841981,   1.48841981,   1.48841981],\n",
       "       [  5.67588859,   5.67588859,   5.67588859,   5.67588859],\n",
       "       [  3.61179262,   3.61179262,   3.61179262,   3.61179262],\n",
       "       [  2.31316193,   2.31316193,   2.31316193,   2.31316193],\n",
       "       [  9.29222809,   9.29222809,   9.29222809,   9.29222809],\n",
       "       [ -7.56154485,  -7.56154485,  -7.56154485,  -7.56154485],\n",
       "       [ -6.2952429 ,  -6.2952429 ,  -6.2952429 ,  -6.2952429 ],\n",
       "       [  3.60802756,   3.60802756,   3.60802756,   3.60802756],\n",
       "       [ 11.82243252,  11.82243252,  11.82243252,  11.82243252],\n",
       "       [  2.77356284,   2.77356284,   2.77356284,   2.77356284],\n",
       "       [  5.29945725,   5.29945725,   5.29945725,   5.29945725],\n",
       "       [  1.93076972,   1.93076972,   1.93076972,   1.93076972],\n",
       "       [  5.52690761,   5.52690761,   5.52690761,   5.52690761],\n",
       "       [ -2.49210443,  -2.49210443,  -2.49210443,  -2.49210443],\n",
       "       [ -5.94470093,  -5.94470093,  -5.94470093,  -5.94470093],\n",
       "       [ 12.43637111,  12.43637111,  12.43637111,  12.43637111],\n",
       "       [ 14.70640662,  14.70640662,  14.70640662,  14.70640662],\n",
       "       [  4.14883852,   4.14883852,   4.14883852,   4.14883852],\n",
       "       [  1.45609681,   1.45609681,   1.45609681,   1.45609681],\n",
       "       [  4.50898308,   4.50898308,   4.50898308,   4.50898308],\n",
       "       [  1.44630396,   1.44630396,   1.44630396,   1.44630396],\n",
       "       [ -9.27259736,  -9.27259736,  -9.27259736,  -9.27259736],\n",
       "       [ -3.35368907,  -3.35368907,  -3.35368907,  -3.35368907],\n",
       "       [  4.97034461,   4.97034461,   4.97034461,   4.97034461],\n",
       "       [ -4.11292288,  -4.11292288,  -4.11292288,  -4.11292288],\n",
       "       [ -3.00743085,  -3.00743085,  -3.00743085,  -3.00743085],\n",
       "       [  5.29894821,   5.29894821,   5.29894821,   5.29894821],\n",
       "       [ -0.45784798,  -0.45784798,  -0.45784798,  -0.45784798],\n",
       "       [ -1.30458209,  -1.30458209,  -1.30458209,  -1.30458209],\n",
       "       [  9.49607647,   9.49607647,   9.49607647,   9.49607647],\n",
       "       [  3.98276437,   3.98276437,   3.98276437,   3.98276437],\n",
       "       [  7.71448615,   7.71448615,   7.71448615,   7.71448615],\n",
       "       [ -2.17323741,  -2.17323741,  -2.17323741,  -2.17323741],\n",
       "       [ 12.71907067,  12.71907067,  12.71907067,  12.71907067],\n",
       "       [  0.51171906,   0.51171906,   0.51171906,   0.51171906],\n",
       "       [  3.17996515,   3.17996515,   3.17996515,   3.17996515],\n",
       "       [ -0.49878579,  -0.49878579,  -0.49878579,  -0.49878579],\n",
       "       [  4.18566574,   4.18566574,   4.18566574,   4.18566574],\n",
       "       [  5.26539222,   5.26539222,   5.26539222,   5.26539222],\n",
       "       [ -3.12457664,  -3.12457664,  -3.12457664,  -3.12457664],\n",
       "       [  1.4138758 ,   1.4138758 ,   1.4138758 ,   1.4138758 ],\n",
       "       [ -5.48096255,  -5.48096255,  -5.48096255,  -5.48096255],\n",
       "       [ -0.50046761,  -0.50046761,  -0.50046761,  -0.50046761],\n",
       "       [ -8.0044951 ,  -8.0044951 ,  -8.0044951 ,  -8.0044951 ],\n",
       "       [  6.66560784,   6.66560784,   6.66560784,   6.66560784],\n",
       "       [  6.13759042,   6.13759042,   6.13759042,   6.13759042],\n",
       "       [  2.94248197,   2.94248197,   2.94248197,   2.94248197],\n",
       "       [ -1.76897319,  -1.76897319,  -1.76897319,  -1.76897319],\n",
       "       [  5.29593892,   5.29593892,   5.29593892,   5.29593892],\n",
       "       [  5.55340907,   5.55340907,   5.55340907,   5.55340907],\n",
       "       [  0.30245871,   0.30245871,   0.30245871,   0.30245871],\n",
       "       [ -4.69550578,  -4.69550578,  -4.69550578,  -4.69550578],\n",
       "       [ -0.05574639,  -0.05574639,  -0.05574639,  -0.05574639],\n",
       "       [  5.4061458 ,   5.4061458 ,   5.4061458 ,   5.4061458 ],\n",
       "       [  1.59832541,   1.59832541,   1.59832541,   1.59832541]])"
      ]
     },
     "execution_count": 185,
     "metadata": {},
     "output_type": "execute_result"
    }
   ],
   "source": [
    "Y"
   ]
  },
  {
   "cell_type": "code",
   "execution_count": 199,
   "metadata": {},
   "outputs": [],
   "source": [
    "markov_nlin = np.zeros((t,len(pi0)))\n",
    "\n",
    "for i in range(t):\n",
    "    if i == 0:\n",
    "        markov_nlin[i] = deepcopy(pi0)\n",
    "            \n",
    "    if i != 0:\n",
    "        \n",
    "        prognoz = deepcopy(P.transpose().dot(markov_nlin[i-1]))\n",
    "        \n",
    "        summa = 0\n",
    "        for n in range(len(pi0)):\n",
    "            summa += (prognoz[n]/sigma[0][n])*stats.norm.pdf((Y[i]-c[0][n])/sigma[0][n])[0]\n",
    "            \n",
    "        for j in range(len(pi0)):\n",
    "            markov_nlin[i][j] = ((prognoz[j]/sigma[0][j])*stats.norm.pdf((Y[i]-c[0][j])/sigma[0][j])[0])/summa"
   ]
  },
  {
   "cell_type": "code",
   "execution_count": 200,
   "metadata": {},
   "outputs": [
    {
     "data": {
      "text/plain": [
       "array([[0.375     , 0.125     , 0.375     , 0.125     ],\n",
       "       [0.17838135, 0.39930415, 0.05914538, 0.36316912],\n",
       "       [0.67505528, 0.16093175, 0.12264157, 0.04137141],\n",
       "       [0.10029923, 0.69859905, 0.03946098, 0.16164074],\n",
       "       [0.67341826, 0.12039247, 0.15890013, 0.04728914],\n",
       "       [0.03396265, 0.59279272, 0.04758251, 0.32566212],\n",
       "       [0.78561326, 0.03294531, 0.14556551, 0.03587592],\n",
       "       [0.06729961, 0.80896726, 0.01330277, 0.11043037],\n",
       "       [0.728461  , 0.08641263, 0.16704249, 0.01808388],\n",
       "       [0.11293564, 0.73955878, 0.01234303, 0.13516255],\n",
       "       [0.81041427, 0.09767517, 0.08403734, 0.00787322],\n",
       "       [0.10987083, 0.81655343, 0.01034404, 0.0632317 ],\n",
       "       [0.82197272, 0.09599515, 0.07447906, 0.00755308],\n",
       "       [0.11459434, 0.82046127, 0.0096982 , 0.05524618],\n",
       "       [0.82205673, 0.10027259, 0.07140694, 0.00626374],\n",
       "       [0.09716435, 0.83321628, 0.01094905, 0.05867032],\n",
       "       [0.84078924, 0.0824301 , 0.0698754 , 0.00690527],\n",
       "       [0.05368196, 0.85546773, 0.01214836, 0.07870195],\n",
       "       [0.75422298, 0.06964916, 0.15941663, 0.01671124],\n",
       "       [0.09074744, 0.77684273, 0.01078648, 0.12162334],\n",
       "       [0.83031526, 0.07814618, 0.08409011, 0.00744845],\n",
       "       [0.08795329, 0.83948472, 0.00870449, 0.06385751],\n",
       "       [0.84902542, 0.07425993, 0.07120282, 0.00551182],\n",
       "       [0.0852848 , 0.85413139, 0.00760828, 0.05297553],\n",
       "       [0.75681252, 0.10376668, 0.1302721 , 0.0091487 ],\n",
       "       [0.11806069, 0.75767382, 0.01134178, 0.11292371],\n",
       "       [0.81334169, 0.10091365, 0.07851501, 0.00722964],\n",
       "       [0.12017873, 0.81113634, 0.00998279, 0.05870214],\n",
       "       [0.78063247, 0.11792735, 0.09111524, 0.01032493],\n",
       "       [0.13708928, 0.7829634 , 0.01246685, 0.06748048],\n",
       "       [0.80550737, 0.11704135, 0.06931394, 0.00813734],\n",
       "       [0.10002496, 0.82255711, 0.01419621, 0.06322171],\n",
       "       [0.82587457, 0.08905675, 0.07567744, 0.00939124],\n",
       "       [0.10813223, 0.82611471, 0.00970518, 0.05604787],\n",
       "       [0.75256285, 0.12317905, 0.11405275, 0.01020535],\n",
       "       [0.13455781, 0.76387988, 0.01349205, 0.08807026],\n",
       "       [0.80337124, 0.1150661 , 0.07291884, 0.00864382],\n",
       "       [0.11988068, 0.79775721, 0.01262384, 0.06973827],\n",
       "       [0.74388459, 0.13278586, 0.11078152, 0.01254804],\n",
       "       [0.08625764, 0.71292819, 0.01983296, 0.1809812 ],\n",
       "       [0.79895863, 0.08063208, 0.10628668, 0.01412261],\n",
       "       [0.09391483, 0.81274886, 0.01112022, 0.0822161 ],\n",
       "       [0.83567444, 0.08050425, 0.07621881, 0.00760249],\n",
       "       [0.08491809, 0.8457774 , 0.00927272, 0.06003179],\n",
       "       [0.85179281, 0.07167841, 0.07067197, 0.00585682],\n",
       "       [0.08281967, 0.85709938, 0.00749958, 0.05258137],\n",
       "       [0.80328926, 0.08788628, 0.10201528, 0.00680918],\n",
       "       [0.09269676, 0.81716944, 0.00967626, 0.08045754],\n",
       "       [0.82845391, 0.08354573, 0.08147478, 0.00652558],\n",
       "       [0.05144547, 0.84084624, 0.01243882, 0.09526946],\n",
       "       [0.82176488, 0.05209385, 0.11207224, 0.01406903],\n",
       "       [0.06046363, 0.81949801, 0.00905322, 0.11098514],\n",
       "       [0.83810243, 0.05734963, 0.09789148, 0.00665646],\n",
       "       [0.02410989, 0.81606166, 0.01120125, 0.14862721],\n",
       "       [0.86807958, 0.02204879, 0.10212786, 0.00774377],\n",
       "       [0.02455969, 0.88380074, 0.00459822, 0.08704135],\n",
       "       [0.88990433, 0.021638  , 0.08544609, 0.00301158],\n",
       "       [0.02068995, 0.90278895, 0.00300838, 0.07351273],\n",
       "       [0.90260286, 0.01735472, 0.0780635 , 0.00197892],\n",
       "       [0.01869895, 0.90377379, 0.00213386, 0.0753934 ],\n",
       "       [0.63487888, 0.03439174, 0.32406565, 0.00666374],\n",
       "       [0.00649817, 0.44092922, 0.00773429, 0.54483831],\n",
       "       [0.78251218, 0.00641475, 0.20503019, 0.00604288],\n",
       "       [0.0123498 , 0.8253951 , 0.00239255, 0.15986256],\n",
       "       [0.86432603, 0.01224895, 0.12151691, 0.00190812],\n",
       "       [0.01524802, 0.89062023, 0.00158275, 0.092549  ],\n",
       "       [0.83689187, 0.01734686, 0.14332947, 0.0024318 ],\n",
       "       [0.02163574, 0.85667839, 0.00216045, 0.11952542],\n",
       "       [0.85946486, 0.02202517, 0.11670113, 0.00180884],\n",
       "       [0.0255857 , 0.87158518, 0.00237789, 0.10045123],\n",
       "       [0.89269753, 0.02168984, 0.08399712, 0.00161551],\n",
       "       [0.02023675, 0.9058901 , 0.00252055, 0.07135261],\n",
       "       [0.90491313, 0.01690546, 0.07661714, 0.00156427],\n",
       "       [0.02079939, 0.91865456, 0.00180615, 0.05873989],\n",
       "       [0.77695874, 0.03006755, 0.18990029, 0.00307343],\n",
       "       [0.03224823, 0.80869663, 0.00366946, 0.15538568],\n",
       "       [0.78333875, 0.03955151, 0.17264412, 0.00446561],\n",
       "       [0.04985607, 0.80763563, 0.00455674, 0.13795156],\n",
       "       [0.54596157, 0.08735702, 0.35256089, 0.01412052],\n",
       "       [0.11745588, 0.58995112, 0.01185422, 0.28073877],\n",
       "       [0.75393867, 0.11096106, 0.12653939, 0.00856088],\n",
       "       [0.13368928, 0.76019341, 0.01127477, 0.09484253],\n",
       "       [0.76747372, 0.13074898, 0.0930364 , 0.0087409 ],\n",
       "       [0.12238476, 0.7833446 , 0.01492784, 0.0793428 ],\n",
       "       [0.80923359, 0.10590036, 0.07445815, 0.01040789],\n",
       "       [0.12340344, 0.81000727, 0.01151805, 0.05507124],\n",
       "       [0.7971997 , 0.11355718, 0.07938355, 0.00985957],\n",
       "       [0.13597308, 0.79358082, 0.0117033 , 0.0587428 ],\n",
       "       [0.74551916, 0.14079815, 0.0995129 , 0.01416979],\n",
       "       [0.120135  , 0.76721606, 0.01908448, 0.09356446],\n",
       "       [0.73794561, 0.1307538 , 0.11300324, 0.01829735],\n",
       "       [0.14869392, 0.74781742, 0.01653856, 0.0869501 ],\n",
       "       [0.7893894 , 0.12765109, 0.07210005, 0.01085946],\n",
       "       [0.12028699, 0.80301028, 0.01531708, 0.06138565],\n",
       "       [0.76143782, 0.12649758, 0.09838284, 0.01368176],\n",
       "       [0.15252218, 0.7610457 , 0.01391355, 0.07251857],\n",
       "       [0.77476029, 0.13736946, 0.07684136, 0.01102889],\n",
       "       [0.16212553, 0.76771454, 0.01386125, 0.05629868],\n",
       "       [0.72753583, 0.16869629, 0.09162128, 0.01214661],\n",
       "       [0.19090642, 0.72452615, 0.0170269 , 0.06754053]])"
      ]
     },
     "execution_count": 200,
     "metadata": {},
     "output_type": "execute_result"
    }
   ],
   "source": [
    "markov_nlin"
   ]
  },
  {
   "cell_type": "code",
   "execution_count": 198,
   "metadata": {},
   "outputs": [
    {
     "data": {
      "text/plain": [
       "[<matplotlib.lines.Line2D at 0x2a468d94188>]"
      ]
     },
     "execution_count": 198,
     "metadata": {},
     "output_type": "execute_result"
    },
    {
     "data": {
      "image/png": "[encoded data removed]",
      "text/plain": [
       "<Figure size 432x288 with 1 Axes>"
      ]
     },
     "metadata": {
      "needs_background": "light"
     },
     "output_type": "display_data"
    }
   ],
   "source": [
    "x = np.linspace(0,t,100)\n",
    "y = markov_sim.transpose()[0]\n",
    "\n",
    "plt.plot(x,y)\n",
    "\n",
    "y = markov_nlin.transpose()[0]\n",
    "plt.plot(x,y)\n",
    "\n",
    "y = markov_triv_2.transpose()[0]\n",
    "plt.plot(x,y)"
   ]
  },
  {
   "cell_type": "code",
   "execution_count": null,
   "metadata": {},
   "outputs": [],
   "source": []
  }
 ],
 "metadata": {
  "kernelspec": {
   "display_name": "Python 3",
   "language": "python",
   "name": "python3"
  },
  "language_info": {
   "codemirror_mode": {
    "name": "ipython",
    "version": 3
   },
   "file_extension": ".py",
   "mimetype": "text/x-python",
   "name": "python",
   "nbconvert_exporter": "python",
   "pygments_lexer": "ipython3",
   "version": "3.7.6"
  }
 },
 "nbformat": 4,
 "nbformat_minor": 4
}

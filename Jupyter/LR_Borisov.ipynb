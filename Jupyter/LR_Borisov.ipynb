{
 "cells": [
  {
   "cell_type": "code",
   "execution_count": 37,
   "metadata": {},
   "outputs": [],
   "source": [
    "from sympy import *\n",
    "\n",
    "z = Symbol(\"z\", positive = True)\n",
    "\n",
    "m = Matrix([\n",
    "[1-2/10*z,      -2/10*z, -1/10*z],\n",
    "[0, 1-3/10*z, 0],\n",
    "[-8/10*z, -5/10*z, 1-9/10*z]])"
   ]
  },
  {
   "cell_type": "code",
   "execution_count": 38,
   "metadata": {},
   "outputs": [
    {
     "data": {
      "text/latex": [
       "$\\displaystyle \\left[\\begin{matrix}1 - 0.2 z & - 0.2 z & - 0.1 z\\\\0 & 1 - 0.3 z & 0\\\\- 0.8 z & - 0.5 z & 1 - 0.9 z\\end{matrix}\\right]$"
      ],
      "text/plain": [
       "Matrix([\n",
       "[1 - 0.2*z,    -0.2*z,    -0.1*z],\n",
       "[        0, 1 - 0.3*z,         0],\n",
       "[   -0.8*z,    -0.5*z, 1 - 0.9*z]])"
      ]
     },
     "execution_count": 38,
     "metadata": {},
     "output_type": "execute_result"
    }
   ],
   "source": [
    "m"
   ]
  },
  {
   "cell_type": "code",
   "execution_count": 39,
   "metadata": {},
   "outputs": [
    {
     "data": {
      "text/latex": [
       "$\\displaystyle - 1.0 \\cdot \\left(0.1 z - 1.0\\right) \\left(0.3 z - 1.0\\right) \\left(1.0 z - 1.0\\right)$"
      ],
      "text/plain": [
       "-1.0*(0.1*z - 1.0)*(0.3*z - 1.0)*(1.0*z - 1.0)"
      ]
     },
     "execution_count": 39,
     "metadata": {},
     "output_type": "execute_result"
    }
   ],
   "source": [
    "factor(m.det())"
   ]
  },
  {
   "cell_type": "code",
   "execution_count": 40,
   "metadata": {},
   "outputs": [],
   "source": [
    "adj = m.inv('ADJ')"
   ]
  },
  {
   "cell_type": "code",
   "execution_count": 41,
   "metadata": {},
   "outputs": [
    {
     "data": {
      "text/latex": [
       "$\\displaystyle \\left[\\begin{matrix}\\frac{0.27 z^{2} - 1.2 z + 1}{- 0.03 z^{3} + 0.43 z^{2} - 1.4 z + 1} & \\frac{- 0.13 z^{2} + 0.2 z}{- 0.03 z^{3} + 0.43 z^{2} - 1.4 z + 1} & \\frac{- 0.03 z^{2} + 0.1 z}{- 0.03 z^{3} + 0.43 z^{2} - 1.4 z + 1}\\\\0 & \\frac{0.1 z^{2} - 1.1 z + 1}{- 0.03 z^{3} + 0.43 z^{2} - 1.4 z + 1} & 0\\\\\\frac{- 0.24 z^{2} + 0.8 z}{- 0.03 z^{3} + 0.43 z^{2} - 1.4 z + 1} & \\frac{0.06 z^{2} + 0.5 z}{- 0.03 z^{3} + 0.43 z^{2} - 1.4 z + 1} & \\frac{0.06 z^{2} - 0.5 z + 1}{- 0.03 z^{3} + 0.43 z^{2} - 1.4 z + 1}\\end{matrix}\\right]$"
      ],
      "text/plain": [
       "Matrix([\n",
       "[(0.27*z**2 - 1.2*z + 1)/(-0.03*z**3 + 0.43*z**2 - 1.4*z + 1),   (-0.13*z**2 + 0.2*z)/(-0.03*z**3 + 0.43*z**2 - 1.4*z + 1),    (-0.03*z**2 + 0.1*z)/(-0.03*z**3 + 0.43*z**2 - 1.4*z + 1)],\n",
       "[                                                           0, (0.1*z**2 - 1.1*z + 1)/(-0.03*z**3 + 0.43*z**2 - 1.4*z + 1),                                                            0],\n",
       "[   (-0.24*z**2 + 0.8*z)/(-0.03*z**3 + 0.43*z**2 - 1.4*z + 1),    (0.06*z**2 + 0.5*z)/(-0.03*z**3 + 0.43*z**2 - 1.4*z + 1), (0.06*z**2 - 0.5*z + 1)/(-0.03*z**3 + 0.43*z**2 - 1.4*z + 1)]])"
      ]
     },
     "execution_count": 41,
     "metadata": {},
     "output_type": "execute_result"
    }
   ],
   "source": [
    "adj "
   ]
  },
  {
   "cell_type": "code",
   "execution_count": null,
   "metadata": {},
   "outputs": [],
   "source": []
  },
  {
   "cell_type": "markdown",
   "metadata": {},
   "source": [
    "# Курсовик"
   ]
  },
  {
   "cell_type": "code",
   "execution_count": 199,
   "metadata": {},
   "outputs": [],
   "source": [
    "#n = 1\n",
    "n = Symbol(\"n\", positive = True)\n",
    "z = Symbol(\"z\")\n",
    "#n = 25\n",
    "pi_0 =Matrix([1/2*(sin(pi*n/6))**2\n",
    "            , 1/2*(cos(pi*n/6))**2\n",
    "            ,1/2*(sin(pi*n/12))**2\n",
    "            , 1/2*(cos(pi*n/12))**2]) \n",
    "\n",
    "\n",
    "P = Matrix([[0 ,1, 0, 0]\n",
    "            , [(sin(pi*n/5))**2, 0, (cos(pi*n/5))**2, 0]\n",
    "            , [0, 0, 0, 1]\n",
    "            , [(cos(pi*n/10))**2, 0, (sin(pi*n/10))**2, 0]])\n",
    "            "
   ]
  },
  {
   "cell_type": "code",
   "execution_count": 200,
   "metadata": {},
   "outputs": [
    {
     "data": {
      "text/latex": [
       "$\\displaystyle \\left[\\begin{matrix}0 & 1 & 0 & 0\\\\\\sin^{2}{\\left(\\frac{\\pi n}{5} \\right)} & 0 & \\cos^{2}{\\left(\\frac{\\pi n}{5} \\right)} & 0\\\\0 & 0 & 0 & 1\\\\\\cos^{2}{\\left(\\frac{\\pi n}{10} \\right)} & 0 & \\sin^{2}{\\left(\\frac{\\pi n}{10} \\right)} & 0\\end{matrix}\\right]$"
      ],
      "text/plain": [
       "Matrix([\n",
       "[              0, 1,               0, 0],\n",
       "[ sin(pi*n/5)**2, 0,  cos(pi*n/5)**2, 0],\n",
       "[              0, 0,               0, 1],\n",
       "[cos(pi*n/10)**2, 0, sin(pi*n/10)**2, 0]])"
      ]
     },
     "execution_count": 200,
     "metadata": {},
     "output_type": "execute_result"
    }
   ],
   "source": [
    "P"
   ]
  },
  {
   "cell_type": "code",
   "execution_count": 201,
   "metadata": {},
   "outputs": [
    {
     "data": {
      "text/latex": [
       "$\\displaystyle \\left[\\begin{matrix}0.5 \\sin^{2}{\\left(\\frac{\\pi n}{6} \\right)}\\\\0.5 \\cos^{2}{\\left(\\frac{\\pi n}{6} \\right)}\\\\0.5 \\sin^{2}{\\left(\\frac{\\pi n}{12} \\right)}\\\\0.5 \\cos^{2}{\\left(\\frac{\\pi n}{12} \\right)}\\end{matrix}\\right]$"
      ],
      "text/plain": [
       "Matrix([\n",
       "[ 0.5*sin(pi*n/6)**2],\n",
       "[ 0.5*cos(pi*n/6)**2],\n",
       "[0.5*sin(pi*n/12)**2],\n",
       "[0.5*cos(pi*n/12)**2]])"
      ]
     },
     "execution_count": 201,
     "metadata": {},
     "output_type": "execute_result"
    }
   ],
   "source": [
    "pi_0"
   ]
  },
  {
   "cell_type": "code",
   "execution_count": 202,
   "metadata": {},
   "outputs": [],
   "source": [
    "expr = eye(4) - z * P.T"
   ]
  },
  {
   "cell_type": "code",
   "execution_count": 203,
   "metadata": {},
   "outputs": [
    {
     "data": {
      "text/latex": [
       "$\\displaystyle \\left[\\begin{matrix}1 & - z \\sin^{2}{\\left(\\frac{\\pi n}{5} \\right)} & 0 & - z \\cos^{2}{\\left(\\frac{\\pi n}{10} \\right)}\\\\- z & 1 & 0 & 0\\\\0 & - z \\cos^{2}{\\left(\\frac{\\pi n}{5} \\right)} & 1 & - z \\sin^{2}{\\left(\\frac{\\pi n}{10} \\right)}\\\\0 & 0 & - z & 1\\end{matrix}\\right]$"
      ],
      "text/plain": [
       "Matrix([\n",
       "[ 1, -z*sin(pi*n/5)**2,  0, -z*cos(pi*n/10)**2],\n",
       "[-z,                 1,  0,                  0],\n",
       "[ 0, -z*cos(pi*n/5)**2,  1, -z*sin(pi*n/10)**2],\n",
       "[ 0,                 0, -z,                  1]])"
      ]
     },
     "execution_count": 203,
     "metadata": {},
     "output_type": "execute_result"
    }
   ],
   "source": [
    "expr"
   ]
  },
  {
   "cell_type": "code",
   "execution_count": 204,
   "metadata": {},
   "outputs": [
    {
     "data": {
      "text/latex": [
       "$\\displaystyle z^{4} \\sin^{2}{\\left(\\frac{\\pi n}{10} \\right)} \\sin^{2}{\\left(\\frac{\\pi n}{5} \\right)} - z^{4} \\cos^{2}{\\left(\\frac{\\pi n}{10} \\right)} \\cos^{2}{\\left(\\frac{\\pi n}{5} \\right)} - z^{2} \\sin^{2}{\\left(\\frac{\\pi n}{10} \\right)} - z^{2} \\sin^{2}{\\left(\\frac{\\pi n}{5} \\right)} + 1$"
      ],
      "text/plain": [
       "z**4*sin(pi*n/10)**2*sin(pi*n/5)**2 - z**4*cos(pi*n/10)**2*cos(pi*n/5)**2 - z**2*sin(pi*n/10)**2 - z**2*sin(pi*n/5)**2 + 1"
      ]
     },
     "execution_count": 204,
     "metadata": {},
     "output_type": "execute_result"
    }
   ],
   "source": [
    "d = factor(expr.det())\n",
    "d"
   ]
  },
  {
   "cell_type": "code",
   "execution_count": 205,
   "metadata": {},
   "outputs": [
    {
     "data": {
      "text/latex": [
       "$\\displaystyle - 0.5 z^{4} \\cos{\\left(\\frac{\\pi n}{5} \\right)} - 0.5 z^{4} \\cos{\\left(\\frac{2 \\pi n}{5} \\right)} - z^{2} \\sin^{2}{\\left(\\frac{\\pi n}{10} \\right)} - z^{2} \\sin^{2}{\\left(\\frac{\\pi n}{5} \\right)} + 1$"
      ],
      "text/plain": [
       "-0.5*z**4*cos(pi*n/5) - 0.5*z**4*cos(2*pi*n/5) - z**2*sin(pi*n/10)**2 - z**2*sin(pi*n/5)**2 + 1"
      ]
     },
     "execution_count": 205,
     "metadata": {},
     "output_type": "execute_result"
    }
   ],
   "source": [
    "sub1 = collect(expand(d), [z, n]).subs((sin(pi*n/5))**2 * (sin(pi*n/10))**2, 1/4 *(cos(pi*n/10) - cos(3*pi*n/10))**2)\n",
    "sub2 = sub1.subs((cos(pi*n/5))**2 * (cos(pi*n/10))**2, 1/4 *(cos(pi*n/10) + cos(3*pi*n/10))**2)\n",
    "sub3 = expand(sub2).subs(cos(pi*n/10) * cos(3*pi*n/10), 1/2 *(cos(-2*pi*n/10) + cos(4*pi*n/10)))\n",
    "res_expr = expand(sub3)\n",
    "res_expr"
   ]
  },
  {
   "cell_type": "code",
   "execution_count": 170,
   "metadata": {},
   "outputs": [
    {
     "data": {
      "text/latex": [
       "$\\displaystyle - 1.0 \\cdot \\left(1.0 z - 1.0\\right) \\left(1.0 z + 1.0\\right) \\left(0.25 \\sqrt{5} z^{2} + 1.0\\right)$"
      ],
      "text/plain": [
       "-1.0*(1.0*z - 1.0)*(1.0*z + 1.0)*(0.25*sqrt(5)*z**2 + 1.0)"
      ]
     },
     "execution_count": 170,
     "metadata": {},
     "output_type": "execute_result"
    }
   ],
   "source": [
    "factor(res_expr.subs(n, 1)) #Детерминант"
   ]
  },
  {
   "cell_type": "code",
   "execution_count": 176,
   "metadata": {},
   "outputs": [
    {
     "data": {
      "text/plain": [
       "1.337480609952844"
      ]
     },
     "execution_count": 176,
     "metadata": {},
     "output_type": "execute_result"
    }
   ],
   "source": [
    "2/5**(1/4)"
   ]
  },
  {
   "cell_type": "code",
   "execution_count": 177,
   "metadata": {},
   "outputs": [
    {
     "data": {
      "text/plain": [
       "1.4953487812212205"
      ]
     },
     "execution_count": 177,
     "metadata": {},
     "output_type": "execute_result"
    }
   ],
   "source": [
    "5**(1/4)"
   ]
  },
  {
   "cell_type": "code",
   "execution_count": 174,
   "metadata": {},
   "outputs": [
    {
     "data": {
      "text/plain": [
       "[-1.00000000000000, 1.00000000000000, -1.33748060995284*I, 1.33748060995284*I]"
      ]
     },
     "execution_count": 174,
     "metadata": {},
     "output_type": "execute_result"
    }
   ],
   "source": [
    "solve(factor(res_expr.subs(n, 1)), z) #Корни детерминанта"
   ]
  },
  {
   "cell_type": "code",
   "execution_count": 159,
   "metadata": {},
   "outputs": [
    {
     "data": {
      "text/plain": [
       "[-1/2 - sqrt(3)*I/2, -1/2 + sqrt(3)*I/2]"
      ]
     },
     "execution_count": 159,
     "metadata": {},
     "output_type": "execute_result"
    }
   ],
   "source": [
    "solve(1 + z + z**2, z)"
   ]
  },
  {
   "cell_type": "code",
   "execution_count": 158,
   "metadata": {},
   "outputs": [
    {
     "data": {
      "text/latex": [
       "$\\displaystyle \\left[\\begin{matrix}\\frac{- z^{2} \\left(- \\frac{1}{4} + \\frac{\\sqrt{5}}{4}\\right)^{2} + 1}{- z^{4} \\left(\\frac{1}{4} + \\frac{\\sqrt{5}}{4}\\right)^{2} \\left(\\frac{\\sqrt{5}}{8} + \\frac{5}{8}\\right) + z^{4} \\left(- \\frac{1}{4} + \\frac{\\sqrt{5}}{4}\\right)^{2} \\cdot \\left(\\frac{5}{8} - \\frac{\\sqrt{5}}{8}\\right) - z^{2} \\cdot \\left(\\frac{5}{8} - \\frac{\\sqrt{5}}{8}\\right) - z^{2} \\left(- \\frac{1}{4} + \\frac{\\sqrt{5}}{4}\\right)^{2} + 1} & \\frac{- z^{3} \\left(- \\frac{1}{4} + \\frac{\\sqrt{5}}{4}\\right)^{2} \\cdot \\left(\\frac{5}{8} - \\frac{\\sqrt{5}}{8}\\right) + z^{3} \\left(\\frac{1}{4} + \\frac{\\sqrt{5}}{4}\\right)^{2} \\left(\\frac{\\sqrt{5}}{8} + \\frac{5}{8}\\right) + z \\left(\\frac{5}{8} - \\frac{\\sqrt{5}}{8}\\right)}{- z^{4} \\left(\\frac{1}{4} + \\frac{\\sqrt{5}}{4}\\right)^{2} \\left(\\frac{\\sqrt{5}}{8} + \\frac{5}{8}\\right) + z^{4} \\left(- \\frac{1}{4} + \\frac{\\sqrt{5}}{4}\\right)^{2} \\cdot \\left(\\frac{5}{8} - \\frac{\\sqrt{5}}{8}\\right) - z^{2} \\cdot \\left(\\frac{5}{8} - \\frac{\\sqrt{5}}{8}\\right) - z^{2} \\left(- \\frac{1}{4} + \\frac{\\sqrt{5}}{4}\\right)^{2} + 1} & \\frac{z^{2} \\left(\\frac{\\sqrt{5}}{8} + \\frac{5}{8}\\right)}{- z^{4} \\left(\\frac{1}{4} + \\frac{\\sqrt{5}}{4}\\right)^{2} \\left(\\frac{\\sqrt{5}}{8} + \\frac{5}{8}\\right) + z^{4} \\left(- \\frac{1}{4} + \\frac{\\sqrt{5}}{4}\\right)^{2} \\cdot \\left(\\frac{5}{8} - \\frac{\\sqrt{5}}{8}\\right) - z^{2} \\cdot \\left(\\frac{5}{8} - \\frac{\\sqrt{5}}{8}\\right) - z^{2} \\left(- \\frac{1}{4} + \\frac{\\sqrt{5}}{4}\\right)^{2} + 1} & \\frac{z \\left(\\frac{\\sqrt{5}}{8} + \\frac{5}{8}\\right)}{- z^{4} \\left(\\frac{1}{4} + \\frac{\\sqrt{5}}{4}\\right)^{2} \\left(\\frac{\\sqrt{5}}{8} + \\frac{5}{8}\\right) + z^{4} \\left(- \\frac{1}{4} + \\frac{\\sqrt{5}}{4}\\right)^{2} \\cdot \\left(\\frac{5}{8} - \\frac{\\sqrt{5}}{8}\\right) - z^{2} \\cdot \\left(\\frac{5}{8} - \\frac{\\sqrt{5}}{8}\\right) - z^{2} \\left(- \\frac{1}{4} + \\frac{\\sqrt{5}}{4}\\right)^{2} + 1}\\\\\\frac{- z^{3} \\left(- \\frac{1}{4} + \\frac{\\sqrt{5}}{4}\\right)^{2} + z}{- z^{4} \\left(\\frac{1}{4} + \\frac{\\sqrt{5}}{4}\\right)^{2} \\left(\\frac{\\sqrt{5}}{8} + \\frac{5}{8}\\right) + z^{4} \\left(- \\frac{1}{4} + \\frac{\\sqrt{5}}{4}\\right)^{2} \\cdot \\left(\\frac{5}{8} - \\frac{\\sqrt{5}}{8}\\right) - z^{2} \\cdot \\left(\\frac{5}{8} - \\frac{\\sqrt{5}}{8}\\right) - z^{2} \\left(- \\frac{1}{4} + \\frac{\\sqrt{5}}{4}\\right)^{2} + 1} & \\frac{- z^{2} \\left(- \\frac{1}{4} + \\frac{\\sqrt{5}}{4}\\right)^{2} + 1}{- z^{4} \\left(\\frac{1}{4} + \\frac{\\sqrt{5}}{4}\\right)^{2} \\left(\\frac{\\sqrt{5}}{8} + \\frac{5}{8}\\right) + z^{4} \\left(- \\frac{1}{4} + \\frac{\\sqrt{5}}{4}\\right)^{2} \\cdot \\left(\\frac{5}{8} - \\frac{\\sqrt{5}}{8}\\right) - z^{2} \\cdot \\left(\\frac{5}{8} - \\frac{\\sqrt{5}}{8}\\right) - z^{2} \\left(- \\frac{1}{4} + \\frac{\\sqrt{5}}{4}\\right)^{2} + 1} & \\frac{z^{3} \\left(\\frac{\\sqrt{5}}{8} + \\frac{5}{8}\\right)}{- z^{4} \\left(\\frac{1}{4} + \\frac{\\sqrt{5}}{4}\\right)^{2} \\left(\\frac{\\sqrt{5}}{8} + \\frac{5}{8}\\right) + z^{4} \\left(- \\frac{1}{4} + \\frac{\\sqrt{5}}{4}\\right)^{2} \\cdot \\left(\\frac{5}{8} - \\frac{\\sqrt{5}}{8}\\right) - z^{2} \\cdot \\left(\\frac{5}{8} - \\frac{\\sqrt{5}}{8}\\right) - z^{2} \\left(- \\frac{1}{4} + \\frac{\\sqrt{5}}{4}\\right)^{2} + 1} & \\frac{z^{2} \\left(\\frac{\\sqrt{5}}{8} + \\frac{5}{8}\\right)}{- z^{4} \\left(\\frac{1}{4} + \\frac{\\sqrt{5}}{4}\\right)^{2} \\left(\\frac{\\sqrt{5}}{8} + \\frac{5}{8}\\right) + z^{4} \\left(- \\frac{1}{4} + \\frac{\\sqrt{5}}{4}\\right)^{2} \\cdot \\left(\\frac{5}{8} - \\frac{\\sqrt{5}}{8}\\right) - z^{2} \\cdot \\left(\\frac{5}{8} - \\frac{\\sqrt{5}}{8}\\right) - z^{2} \\left(- \\frac{1}{4} + \\frac{\\sqrt{5}}{4}\\right)^{2} + 1}\\\\\\frac{z^{2} \\left(\\frac{1}{4} + \\frac{\\sqrt{5}}{4}\\right)^{2}}{- z^{4} \\left(\\frac{1}{4} + \\frac{\\sqrt{5}}{4}\\right)^{2} \\left(\\frac{\\sqrt{5}}{8} + \\frac{5}{8}\\right) + z^{4} \\left(- \\frac{1}{4} + \\frac{\\sqrt{5}}{4}\\right)^{2} \\cdot \\left(\\frac{5}{8} - \\frac{\\sqrt{5}}{8}\\right) - z^{2} \\cdot \\left(\\frac{5}{8} - \\frac{\\sqrt{5}}{8}\\right) - z^{2} \\left(- \\frac{1}{4} + \\frac{\\sqrt{5}}{4}\\right)^{2} + 1} & \\frac{z \\left(\\frac{1}{4} + \\frac{\\sqrt{5}}{4}\\right)^{2}}{- z^{4} \\left(\\frac{1}{4} + \\frac{\\sqrt{5}}{4}\\right)^{2} \\left(\\frac{\\sqrt{5}}{8} + \\frac{5}{8}\\right) + z^{4} \\left(- \\frac{1}{4} + \\frac{\\sqrt{5}}{4}\\right)^{2} \\cdot \\left(\\frac{5}{8} - \\frac{\\sqrt{5}}{8}\\right) - z^{2} \\cdot \\left(\\frac{5}{8} - \\frac{\\sqrt{5}}{8}\\right) - z^{2} \\left(- \\frac{1}{4} + \\frac{\\sqrt{5}}{4}\\right)^{2} + 1} & \\frac{- z^{2} \\cdot \\left(\\frac{5}{8} - \\frac{\\sqrt{5}}{8}\\right) + 1}{- z^{4} \\left(\\frac{1}{4} + \\frac{\\sqrt{5}}{4}\\right)^{2} \\left(\\frac{\\sqrt{5}}{8} + \\frac{5}{8}\\right) + z^{4} \\left(- \\frac{1}{4} + \\frac{\\sqrt{5}}{4}\\right)^{2} \\cdot \\left(\\frac{5}{8} - \\frac{\\sqrt{5}}{8}\\right) - z^{2} \\cdot \\left(\\frac{5}{8} - \\frac{\\sqrt{5}}{8}\\right) - z^{2} \\left(- \\frac{1}{4} + \\frac{\\sqrt{5}}{4}\\right)^{2} + 1} & \\frac{- z^{3} \\left(- \\frac{1}{4} + \\frac{\\sqrt{5}}{4}\\right)^{2} \\cdot \\left(\\frac{5}{8} - \\frac{\\sqrt{5}}{8}\\right) + z^{3} \\left(\\frac{1}{4} + \\frac{\\sqrt{5}}{4}\\right)^{2} \\left(\\frac{\\sqrt{5}}{8} + \\frac{5}{8}\\right) + z \\left(- \\frac{1}{4} + \\frac{\\sqrt{5}}{4}\\right)^{2}}{- z^{4} \\left(\\frac{1}{4} + \\frac{\\sqrt{5}}{4}\\right)^{2} \\left(\\frac{\\sqrt{5}}{8} + \\frac{5}{8}\\right) + z^{4} \\left(- \\frac{1}{4} + \\frac{\\sqrt{5}}{4}\\right)^{2} \\cdot \\left(\\frac{5}{8} - \\frac{\\sqrt{5}}{8}\\right) - z^{2} \\cdot \\left(\\frac{5}{8} - \\frac{\\sqrt{5}}{8}\\right) - z^{2} \\left(- \\frac{1}{4} + \\frac{\\sqrt{5}}{4}\\right)^{2} + 1}\\\\\\frac{z^{3} \\left(\\frac{1}{4} + \\frac{\\sqrt{5}}{4}\\right)^{2}}{- z^{4} \\left(\\frac{1}{4} + \\frac{\\sqrt{5}}{4}\\right)^{2} \\left(\\frac{\\sqrt{5}}{8} + \\frac{5}{8}\\right) + z^{4} \\left(- \\frac{1}{4} + \\frac{\\sqrt{5}}{4}\\right)^{2} \\cdot \\left(\\frac{5}{8} - \\frac{\\sqrt{5}}{8}\\right) - z^{2} \\cdot \\left(\\frac{5}{8} - \\frac{\\sqrt{5}}{8}\\right) - z^{2} \\left(- \\frac{1}{4} + \\frac{\\sqrt{5}}{4}\\right)^{2} + 1} & \\frac{z^{2} \\left(\\frac{1}{4} + \\frac{\\sqrt{5}}{4}\\right)^{2}}{- z^{4} \\left(\\frac{1}{4} + \\frac{\\sqrt{5}}{4}\\right)^{2} \\left(\\frac{\\sqrt{5}}{8} + \\frac{5}{8}\\right) + z^{4} \\left(- \\frac{1}{4} + \\frac{\\sqrt{5}}{4}\\right)^{2} \\cdot \\left(\\frac{5}{8} - \\frac{\\sqrt{5}}{8}\\right) - z^{2} \\cdot \\left(\\frac{5}{8} - \\frac{\\sqrt{5}}{8}\\right) - z^{2} \\left(- \\frac{1}{4} + \\frac{\\sqrt{5}}{4}\\right)^{2} + 1} & \\frac{- z^{3} \\cdot \\left(\\frac{5}{8} - \\frac{\\sqrt{5}}{8}\\right) + z}{- z^{4} \\left(\\frac{1}{4} + \\frac{\\sqrt{5}}{4}\\right)^{2} \\left(\\frac{\\sqrt{5}}{8} + \\frac{5}{8}\\right) + z^{4} \\left(- \\frac{1}{4} + \\frac{\\sqrt{5}}{4}\\right)^{2} \\cdot \\left(\\frac{5}{8} - \\frac{\\sqrt{5}}{8}\\right) - z^{2} \\cdot \\left(\\frac{5}{8} - \\frac{\\sqrt{5}}{8}\\right) - z^{2} \\left(- \\frac{1}{4} + \\frac{\\sqrt{5}}{4}\\right)^{2} + 1} & \\frac{- z^{2} \\cdot \\left(\\frac{5}{8} - \\frac{\\sqrt{5}}{8}\\right) + 1}{- z^{4} \\left(\\frac{1}{4} + \\frac{\\sqrt{5}}{4}\\right)^{2} \\left(\\frac{\\sqrt{5}}{8} + \\frac{5}{8}\\right) + z^{4} \\left(- \\frac{1}{4} + \\frac{\\sqrt{5}}{4}\\right)^{2} \\cdot \\left(\\frac{5}{8} - \\frac{\\sqrt{5}}{8}\\right) - z^{2} \\cdot \\left(\\frac{5}{8} - \\frac{\\sqrt{5}}{8}\\right) - z^{2} \\left(- \\frac{1}{4} + \\frac{\\sqrt{5}}{4}\\right)^{2} + 1}\\end{matrix}\\right]$"
      ],
      "text/plain": [
       "Matrix([\n",
       "[(-z**2*(-1/4 + sqrt(5)/4)**2 + 1)/(-z**4*(1/4 + sqrt(5)/4)**2*(sqrt(5)/8 + 5/8) + z**4*(-1/4 + sqrt(5)/4)**2*(5/8 - sqrt(5)/8) - z**2*(5/8 - sqrt(5)/8) - z**2*(-1/4 + sqrt(5)/4)**2 + 1), (-z**3*(-1/4 + sqrt(5)/4)**2*(5/8 - sqrt(5)/8) + z**3*(1/4 + sqrt(5)/4)**2*(sqrt(5)/8 + 5/8) + z*(5/8 - sqrt(5)/8))/(-z**4*(1/4 + sqrt(5)/4)**2*(sqrt(5)/8 + 5/8) + z**4*(-1/4 + sqrt(5)/4)**2*(5/8 - sqrt(5)/8) - z**2*(5/8 - sqrt(5)/8) - z**2*(-1/4 + sqrt(5)/4)**2 + 1),        z**2*(sqrt(5)/8 + 5/8)/(-z**4*(1/4 + sqrt(5)/4)**2*(sqrt(5)/8 + 5/8) + z**4*(-1/4 + sqrt(5)/4)**2*(5/8 - sqrt(5)/8) - z**2*(5/8 - sqrt(5)/8) - z**2*(-1/4 + sqrt(5)/4)**2 + 1),                                                                                                     z*(sqrt(5)/8 + 5/8)/(-z**4*(1/4 + sqrt(5)/4)**2*(sqrt(5)/8 + 5/8) + z**4*(-1/4 + sqrt(5)/4)**2*(5/8 - sqrt(5)/8) - z**2*(5/8 - sqrt(5)/8) - z**2*(-1/4 + sqrt(5)/4)**2 + 1)],\n",
       "[(-z**3*(-1/4 + sqrt(5)/4)**2 + z)/(-z**4*(1/4 + sqrt(5)/4)**2*(sqrt(5)/8 + 5/8) + z**4*(-1/4 + sqrt(5)/4)**2*(5/8 - sqrt(5)/8) - z**2*(5/8 - sqrt(5)/8) - z**2*(-1/4 + sqrt(5)/4)**2 + 1),                                                                                   (-z**2*(-1/4 + sqrt(5)/4)**2 + 1)/(-z**4*(1/4 + sqrt(5)/4)**2*(sqrt(5)/8 + 5/8) + z**4*(-1/4 + sqrt(5)/4)**2*(5/8 - sqrt(5)/8) - z**2*(5/8 - sqrt(5)/8) - z**2*(-1/4 + sqrt(5)/4)**2 + 1),        z**3*(sqrt(5)/8 + 5/8)/(-z**4*(1/4 + sqrt(5)/4)**2*(sqrt(5)/8 + 5/8) + z**4*(-1/4 + sqrt(5)/4)**2*(5/8 - sqrt(5)/8) - z**2*(5/8 - sqrt(5)/8) - z**2*(-1/4 + sqrt(5)/4)**2 + 1),                                                                                                  z**2*(sqrt(5)/8 + 5/8)/(-z**4*(1/4 + sqrt(5)/4)**2*(sqrt(5)/8 + 5/8) + z**4*(-1/4 + sqrt(5)/4)**2*(5/8 - sqrt(5)/8) - z**2*(5/8 - sqrt(5)/8) - z**2*(-1/4 + sqrt(5)/4)**2 + 1)],\n",
       "[        z**2*(1/4 + sqrt(5)/4)**2/(-z**4*(1/4 + sqrt(5)/4)**2*(sqrt(5)/8 + 5/8) + z**4*(-1/4 + sqrt(5)/4)**2*(5/8 - sqrt(5)/8) - z**2*(5/8 - sqrt(5)/8) - z**2*(-1/4 + sqrt(5)/4)**2 + 1),                                                                                              z*(1/4 + sqrt(5)/4)**2/(-z**4*(1/4 + sqrt(5)/4)**2*(sqrt(5)/8 + 5/8) + z**4*(-1/4 + sqrt(5)/4)**2*(5/8 - sqrt(5)/8) - z**2*(5/8 - sqrt(5)/8) - z**2*(-1/4 + sqrt(5)/4)**2 + 1), (-z**2*(5/8 - sqrt(5)/8) + 1)/(-z**4*(1/4 + sqrt(5)/4)**2*(sqrt(5)/8 + 5/8) + z**4*(-1/4 + sqrt(5)/4)**2*(5/8 - sqrt(5)/8) - z**2*(5/8 - sqrt(5)/8) - z**2*(-1/4 + sqrt(5)/4)**2 + 1), (-z**3*(-1/4 + sqrt(5)/4)**2*(5/8 - sqrt(5)/8) + z**3*(1/4 + sqrt(5)/4)**2*(sqrt(5)/8 + 5/8) + z*(-1/4 + sqrt(5)/4)**2)/(-z**4*(1/4 + sqrt(5)/4)**2*(sqrt(5)/8 + 5/8) + z**4*(-1/4 + sqrt(5)/4)**2*(5/8 - sqrt(5)/8) - z**2*(5/8 - sqrt(5)/8) - z**2*(-1/4 + sqrt(5)/4)**2 + 1)],\n",
       "[        z**3*(1/4 + sqrt(5)/4)**2/(-z**4*(1/4 + sqrt(5)/4)**2*(sqrt(5)/8 + 5/8) + z**4*(-1/4 + sqrt(5)/4)**2*(5/8 - sqrt(5)/8) - z**2*(5/8 - sqrt(5)/8) - z**2*(-1/4 + sqrt(5)/4)**2 + 1),                                                                                           z**2*(1/4 + sqrt(5)/4)**2/(-z**4*(1/4 + sqrt(5)/4)**2*(sqrt(5)/8 + 5/8) + z**4*(-1/4 + sqrt(5)/4)**2*(5/8 - sqrt(5)/8) - z**2*(5/8 - sqrt(5)/8) - z**2*(-1/4 + sqrt(5)/4)**2 + 1), (-z**3*(5/8 - sqrt(5)/8) + z)/(-z**4*(1/4 + sqrt(5)/4)**2*(sqrt(5)/8 + 5/8) + z**4*(-1/4 + sqrt(5)/4)**2*(5/8 - sqrt(5)/8) - z**2*(5/8 - sqrt(5)/8) - z**2*(-1/4 + sqrt(5)/4)**2 + 1),                                                                                           (-z**2*(5/8 - sqrt(5)/8) + 1)/(-z**4*(1/4 + sqrt(5)/4)**2*(sqrt(5)/8 + 5/8) + z**4*(-1/4 + sqrt(5)/4)**2*(5/8 - sqrt(5)/8) - z**2*(5/8 - sqrt(5)/8) - z**2*(-1/4 + sqrt(5)/4)**2 + 1)]])"
      ]
     },
     "execution_count": 158,
     "metadata": {},
     "output_type": "execute_result"
    }
   ],
   "source": [
    "expr.inv().subs(n, 1) #Обратная матрица по алгебраическим дополнениям"
   ]
  },
  {
   "cell_type": "code",
   "execution_count": null,
   "metadata": {},
   "outputs": [],
   "source": []
  }
 ],
 "metadata": {
  "interpreter": {
   "hash": "0ae5d9db58ef9a6401ab0e45db707be032ddd32a0db22105e41aaec7a30f0393"
  },
  "kernelspec": {
   "display_name": "Python 3.9.12 ('SymCalc')",
   "language": "python",
   "name": "python3"
  },
  "language_info": {
   "codemirror_mode": {
    "name": "ipython",
    "version": 3
   },
   "file_extension": ".py",
   "mimetype": "text/x-python",
   "name": "python",
   "nbconvert_exporter": "python",
   "pygments_lexer": "ipython3",
   "version": "3.9.12"
  },
  "orig_nbformat": 4
 },
 "nbformat": 4,
 "nbformat_minor": 2
}
